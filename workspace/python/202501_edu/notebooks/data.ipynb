{
 "cells": [
  {
   "cell_type": "code",
   "execution_count": null,
   "id": "162dca48-bfea-41e3-80cd-dddd5f969eff",
   "metadata": {},
   "outputs": [],
   "source": [
    "import os\n",
    "import datetime\n",
    "import re\n",
    "import subprocess\n",
    "import stat\n",
    "\n",
    "# analysis\n",
    "import numpy as np\n",
    "import pandas as pd"
   ]
  },
  {
   "cell_type": "code",
   "execution_count": null,
   "id": "036a47ca-52b8-4a52-bcdf-1b369881582b",
   "metadata": {},
   "outputs": [],
   "source": []
  },
  {
   "cell_type": "code",
   "execution_count": null,
   "id": "3b031486-94d0-4850-9952-cf67075c701c",
   "metadata": {},
   "outputs": [],
   "source": [
    "segment,name = 'education-statistics','edstats-csv-zip-32-mb-'\n",
    "download = f'/data/scripts/{segment}.sh'\n",
    "data = f'/data/raw/{name}'"
   ]
  },
  {
   "cell_type": "code",
   "execution_count": null,
   "id": "20f0c3ab-79eb-4174-8535-37686c47d50e",
   "metadata": {},
   "outputs": [],
   "source": []
  },
  {
   "cell_type": "code",
   "execution_count": null,
   "id": "10dd7083-87e4-42c2-ae87-72d1592f196a",
   "metadata": {},
   "outputs": [],
   "source": [
    "os.chmod(download, stat.S_IXUSR | stat.S_IRUSR | stat.S_IWUSR)\n",
    "subprocess.run([download])"
   ]
  },
  {
   "cell_type": "code",
   "execution_count": null,
   "id": "1fc9415c-95ff-4fe3-b9af-b274e847e9fc",
   "metadata": {},
   "outputs": [],
   "source": []
  },
  {
   "cell_type": "code",
   "execution_count": null,
   "id": "b04467c7-fe21-44a5-bcc1-95efe8c379b0",
   "metadata": {},
   "outputs": [],
   "source": []
  },
  {
   "cell_type": "code",
   "execution_count": null,
   "id": "4a888f9c-e4e0-4789-ad97-2b546b86bb58",
   "metadata": {},
   "outputs": [],
   "source": []
  }
 ],
 "metadata": {
  "kernelspec": {
   "display_name": "Python 3 (ipykernel)",
   "language": "python",
   "name": "python3"
  },
  "language_info": {
   "codemirror_mode": {
    "name": "ipython",
    "version": 3
   },
   "file_extension": ".py",
   "mimetype": "text/x-python",
   "name": "python",
   "nbconvert_exporter": "python",
   "pygments_lexer": "ipython3",
   "version": "3.10.16"
  }
 },
 "nbformat": 4,
 "nbformat_minor": 5
}
