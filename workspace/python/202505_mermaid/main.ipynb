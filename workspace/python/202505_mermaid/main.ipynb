{
 "cells": [
  {
   "cell_type": "code",
   "execution_count": 1,
   "id": "79ccf1fb-ffbe-4bf4-bbc9-3bb9680916cd",
   "metadata": {},
   "outputs": [],
   "source": [
    "import sys\n",
    "sys.path.append('./src')\n",
    "from test.code import Stage1, Stage2, Stage3"
   ]
  },
  {
   "cell_type": "code",
   "execution_count": 6,
   "id": "f2035460-b333-4892-8106-97a01ba6bbf2",
   "metadata": {},
   "outputs": [],
   "source": [
    "def generate_mermaid_flowchart(objects, diagram_level=1):\n",
    "    if diagram_level not in (1, 2, 3):\n",
    "        raise ValueError(f\"Invalid diagram_level: {diagram_level}\")\n",
    "\n",
    "    # Dictionary to track which class produces each output\n",
    "    # Map outputs to their source objects\n",
    "    output_to_object = {}\n",
    "    for obj in objects:\n",
    "        for output in obj.outputs:\n",
    "            output_to_object[output] = obj.name\n",
    "    \n",
    "    # Start building the Mermaid flowchart\n",
    "    mermaid_code = [\"```mermaid\\nflowchart TB\"]\n",
    "    \n",
    "    # Add detailed nodes for each class\n",
    "    for obj in objects:\n",
    "        # Replace spaces with underscores for valid Mermaid IDs\n",
    "        node_id = obj.name.replace(\" \", \"_\")\n",
    "        # Format the node content with description, inputs, and outputs\n",
    "        node_content = [f\"<ins>**{obj.name}**</ins>\"]\n",
    "        if diagram_level > 1:\n",
    "            node_content.append(f\"\\t\\t<ins>**Description**</ins>: {obj.description}\")\n",
    "        if diagram_level > 2:\n",
    "            # Add inputs\n",
    "            node_content += [\"\\t\\t<ins>**Inputs**</ins>:\"]\n",
    "            for input_item in obj.inputs:\n",
    "                node_content.append(f\"\\t\\t\\t- **{input_item}**: description\")\n",
    "            # Add outputs\n",
    "            node_content += [\"\\t\\t<ins>**Outputs**</ins>:\"]\n",
    "            for output_item in obj.outputs:\n",
    "                node_content.append(f\"\\t\\t\\t- **{output_item}**: description\")\n",
    "        # Join all the content with line breaks and properly escape double quotes\n",
    "        formatted_content = \"\\n\".join(node_content).replace('\"', '\\\\\"')\n",
    "        # Add the node with all the formatted content\n",
    "        mermaid_code.append(f'    {node_id}[\"{formatted_content}\"]')\n",
    "    \n",
    "    # Add connections between objects\n",
    "    # Use a set to avoid duplicate connections\n",
    "    connections = set()\n",
    "    for target in objects:\n",
    "        for input_item in target.inputs:\n",
    "            if input_item in output_to_object:\n",
    "                source_name = output_to_object[input_item]\n",
    "                if source_name != target.name:  # Avoid self-connections\n",
    "                    source_id = source_name.replace(\" \", \"_\")\n",
    "                    target_id = target.name.replace(\" \", \"_\")\n",
    "                    if diagram_level in (1, 2):\n",
    "                        connection = f'    {source_id} --> {target_id}'\n",
    "                    elif diagram_level == 3:\n",
    "                        connection = f'    {source_id} -->|\"{input_item}\"| {target_id}'\n",
    "                    connections.add(connection)\n",
    "    \n",
    "    # Add connections to the flowchart\n",
    "    mermaid_code.extend(connections)\n",
    "    \n",
    "    # Add some styling to make the boxes look nicer\n",
    "    mermaid_code.append(\"classDef default fill:#f9f9f9,stroke:#333,stroke-width:1px\")\n",
    "    \n",
    "    return \"\\n\".join(mermaid_code) + \"\\n```\""
   ]
  },
  {
   "cell_type": "code",
   "execution_count": 7,
   "id": "5e6bc065-2f98-4949-a43c-65c70f44e729",
   "metadata": {},
   "outputs": [],
   "source": [
    "objects = [Stage1, Stage2, Stage3]\n",
    "diagram_level = 3\n",
    "mermaid_code = generate_mermaid_flowchart(objects, diagram_level)"
   ]
  },
  {
   "cell_type": "code",
   "execution_count": 8,
   "id": "8cb59d71-f25d-4b8b-b3ae-f53cc69d324c",
   "metadata": {},
   "outputs": [
    {
     "data": {
      "text/plain": [
       "'```mermaid\\nflowchart TB\\n    stage1[\"stage1\\n\\t\\tDescription: abc\\n\\t\\tInputs:\\n\\t\\t\\t- **in1_1**: description\\n\\t\\t\\t- **in1_2**: description\\n\\t\\t\\t- **in1_3**: description\\n\\t\\tOutputs:\\n\\t\\t\\t- **out1_1**: description\\n\\t\\t\\t- **out1_2**: description\\n\\t\\t\\t- **out1_3**: description\"]\\n    stage2[\"stage2\\n\\t\\tDescription: abc\\n\\t\\tInputs:\\n\\t\\t\\t- **in2_1**: description\\n\\t\\t\\t- **in2_2**: description\\n\\t\\t\\t- **out1_2**: description\\n\\t\\tOutputs:\\n\\t\\t\\t- **out2_1**: description\\n\\t\\t\\t- **out2_2**: description\\n\\t\\t\\t- **out2_3**: description\"]\\n    stage3[\"stage3\\n\\t\\tDescription: abc\\n\\t\\tInputs:\\n\\t\\t\\t- **out1_2**: description\\n\\t\\t\\t- **out2_3**: description\\n\\t\\t\\t- **out1_3**: description\\n\\t\\t\\t- **out2_2**: description\\n\\t\\tOutputs:\\n\\t\\t\\t- **out3_1**: description\\n\\t\\t\\t- **out3_2**: description\\n\\t\\t\\t- **out3_3**: description\"]\\n    stage1 -->|\"out1_3\"| stage3\\n    stage1 -->|\"out1_2\"| stage2\\n    stage2 -->|\"out2_3\"| stage3\\n    stage1 -->|\"out1_2\"| stage3\\n    stage2 -->|\"out2_2\"| stage3\\nclassDef default fill:#f9f9f9,stroke:#333,stroke-width:1px\\n```'"
      ]
     },
     "execution_count": 8,
     "metadata": {},
     "output_type": "execute_result"
    }
   ],
   "source": [
    "mermaid_code"
   ]
  },
  {
   "cell_type": "code",
   "execution_count": 9,
   "id": "54b945c3-54b0-4daf-9be9-01830498903f",
   "metadata": {},
   "outputs": [],
   "source": [
    "with open('./diagram.md', 'w') as f:\n",
    "    f.write(mermaid_code)"
   ]
  },
  {
   "cell_type": "code",
   "execution_count": null,
   "id": "55956714-6a21-4862-976d-8dcf42245556",
   "metadata": {},
   "outputs": [],
   "source": []
  },
  {
   "cell_type": "code",
   "execution_count": null,
   "id": "22524c46-44d8-4c59-b051-64353160cea4",
   "metadata": {},
   "outputs": [],
   "source": []
  },
  {
   "cell_type": "code",
   "execution_count": null,
   "id": "c19013a4-4d17-4f78-a401-5f1a944d7e96",
   "metadata": {},
   "outputs": [],
   "source": []
  },
  {
   "cell_type": "code",
   "execution_count": null,
   "id": "6d66751c-9760-421d-bd94-d6e46b182db0",
   "metadata": {},
   "outputs": [],
   "source": []
  },
  {
   "cell_type": "code",
   "execution_count": null,
   "id": "9ecad853-ee27-47d8-b88a-029d484fd80d",
   "metadata": {},
   "outputs": [],
   "source": []
  },
  {
   "cell_type": "code",
   "execution_count": null,
   "id": "8207e6bf-f568-4aa9-b8a3-d9869879d4b2",
   "metadata": {},
   "outputs": [],
   "source": []
  },
  {
   "cell_type": "code",
   "execution_count": null,
   "id": "2d518db4-36e7-44fc-bec3-bc2edd4d2b3f",
   "metadata": {},
   "outputs": [],
   "source": []
  },
  {
   "cell_type": "code",
   "execution_count": null,
   "id": "2faa9cdc-6209-4310-9745-1e1a561b36a5",
   "metadata": {},
   "outputs": [],
   "source": []
  },
  {
   "cell_type": "code",
   "execution_count": null,
   "id": "68228165-2554-417b-8666-821e28d0572b",
   "metadata": {},
   "outputs": [],
   "source": []
  },
  {
   "cell_type": "code",
   "execution_count": null,
   "id": "5c288a2f-9c29-4fd4-9469-1f69deb9608e",
   "metadata": {},
   "outputs": [],
   "source": []
  }
 ],
 "metadata": {
  "kernelspec": {
   "display_name": "EDA",
   "language": "python",
   "name": "eda"
  },
  "language_info": {
   "codemirror_mode": {
    "name": "ipython",
    "version": 3
   },
   "file_extension": ".py",
   "mimetype": "text/x-python",
   "name": "python",
   "nbconvert_exporter": "python",
   "pygments_lexer": "ipython3",
   "version": "3.11.12"
  }
 },
 "nbformat": 4,
 "nbformat_minor": 5
}
