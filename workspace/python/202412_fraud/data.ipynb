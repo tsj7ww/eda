{
 "cells": [
  {
   "cell_type": "code",
   "execution_count": null,
   "id": "906f3f03-7dc5-403c-9a0e-1de5ed462330",
   "metadata": {},
   "outputs": [],
   "source": [
    "import os\n",
    "import datetime\n",
    "import re\n",
    "import subprocess\n",
    "import stat\n",
    "\n",
    "# analysis\n",
    "import numpy as np\n",
    "import pandas as pd"
   ]
  },
  {
   "cell_type": "code",
   "execution_count": null,
   "id": "dd717755-e597-4864-af06-877f36c3bb5b",
   "metadata": {},
   "outputs": [],
   "source": []
  },
  {
   "cell_type": "code",
   "execution_count": null,
   "id": "1c871b53-8b79-4962-b5d8-b74f56aaf4cf",
   "metadata": {},
   "outputs": [],
   "source": [
    "segment,name = 'fraud','creditcard.csv'\n",
    "download = f'/data/scripts/{segment}.sh'\n",
    "data = f'/data/raw/{name}'"
   ]
  },
  {
   "cell_type": "code",
   "execution_count": null,
   "id": "fc875717-5df0-47a9-946b-2fe71ebee727",
   "metadata": {},
   "outputs": [],
   "source": []
  },
  {
   "cell_type": "code",
   "execution_count": null,
   "id": "74e7ec60-08d3-4350-ba89-bd75acbe31b4",
   "metadata": {},
   "outputs": [],
   "source": [
    "os.chmod(download, stat.S_IXUSR | stat.S_IRUSR | stat.S_IWUSR)\n",
    "subprocess.run([download])"
   ]
  },
  {
   "cell_type": "code",
   "execution_count": null,
   "id": "dab0ef58-6794-450a-ac18-e51ca8bed598",
   "metadata": {},
   "outputs": [],
   "source": []
  },
  {
   "cell_type": "code",
   "execution_count": null,
   "id": "98e6912d-c50d-4713-9d4f-a03e15a3cc0d",
   "metadata": {},
   "outputs": [],
   "source": []
  },
  {
   "cell_type": "code",
   "execution_count": null,
   "id": "2780b9f1-d69c-4bb4-acae-1503d8083209",
   "metadata": {},
   "outputs": [],
   "source": []
  },
  {
   "cell_type": "code",
   "execution_count": null,
   "id": "a3bf82fb-b380-4df8-84e3-a081fd6bdec4",
   "metadata": {},
   "outputs": [],
   "source": []
  },
  {
   "cell_type": "code",
   "execution_count": null,
   "id": "e4c11e4b-d5d4-488e-9854-506c340635ad",
   "metadata": {},
   "outputs": [],
   "source": []
  }
 ],
 "metadata": {
  "kernelspec": {
   "display_name": "EDA",
   "language": "python",
   "name": "eda"
  },
  "language_info": {
   "codemirror_mode": {
    "name": "ipython",
    "version": 3
   },
   "file_extension": ".py",
   "mimetype": "text/x-python",
   "name": "python",
   "nbconvert_exporter": "python",
   "pygments_lexer": "ipython3",
   "version": "3.10.17"
  }
 },
 "nbformat": 4,
 "nbformat_minor": 5
}
