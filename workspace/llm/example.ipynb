{
    "cells": [
     {
      "cell_type": "code",
      "execution_count": null,
      "metadata": {},
      "outputs": [],
      "source": [
       "import requests\n",
       "import json\n",
       "\n",
       "def query_llama(prompt, api_url=\"http://localhost:8080/completion\"):\n",
       "    payload = {\n",
       "        \"prompt\": prompt,\n",
       "        \"n_predict\": 128,\n",
       "        \"temperature\": 0.7,\n",
       "        \"stop\": [\"</s>\", \"User:\", \"Assistant:\"]\n",
       "    }\n",
       "    \n",
       "    response = requests.post(api_url, json=payload)\n",
       "    return response.json()[\"content\"]\n",
       "\n",
       "# Example usage\n",
       "response = query_llama(\"What is the capital of France?\")\n",
       "print(response)"
      ]
     }
    ],
    "metadata": {
     "kernelspec": {
      "display_name": "Python 3",
      "language": "python",
      "name": "python3"
     }
    }
   }