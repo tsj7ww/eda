{
 "cells": [
  {
   "cell_type": "code",
   "execution_count": 1,
   "id": "a9c9698a-c4af-4b0b-b4af-7ea224c20570",
   "metadata": {},
   "outputs": [],
   "source": [
    "import numpy as np"
   ]
  },
  {
   "cell_type": "code",
   "execution_count": null,
   "id": "fb027368-479b-4a17-a925-339d1b258ab9",
   "metadata": {},
   "outputs": [],
   "source": []
  },
  {
   "cell_type": "code",
   "execution_count": 11,
   "id": "8e0fd7af-94ad-4325-898b-44addf7d6dcf",
   "metadata": {},
   "outputs": [],
   "source": [
    "a = np.array([\"2024-01-01\", \"2024-02-01\", \"2024-03-01\"]).astype(\"datetime64[M]\").astype(int)\n",
    "b = np.array([\"2025-01-01\", \"2024-03-01\", \"2024-04-01\"]).astype(\"datetime64[M]\").astype(int) - 1"
   ]
  },
  {
   "cell_type": "code",
   "execution_count": 12,
   "id": "a52fc3b9-fcd6-4e2e-8a6a-d5aca9603944",
   "metadata": {},
   "outputs": [
    {
     "data": {
      "text/plain": [
       "array([11,  0,  0])"
      ]
     },
     "execution_count": 12,
     "metadata": {},
     "output_type": "execute_result"
    }
   ],
   "source": [
    "(b - a)"
   ]
  },
  {
   "cell_type": "code",
   "execution_count": null,
   "id": "38aa1e46-7f09-496d-87d7-64cdb197910c",
   "metadata": {},
   "outputs": [],
   "source": []
  },
  {
   "cell_type": "code",
   "execution_count": null,
   "id": "03a04ff3-51e4-4b7a-bbfc-cecf914f06f3",
   "metadata": {},
   "outputs": [],
   "source": []
  },
  {
   "cell_type": "code",
   "execution_count": null,
   "id": "c8b7714d-a7e3-4352-8366-dc464aecedbb",
   "metadata": {},
   "outputs": [],
   "source": []
  },
  {
   "cell_type": "code",
   "execution_count": null,
   "id": "8ee12bb8-9c46-4e68-880d-51a4bdcf3a31",
   "metadata": {},
   "outputs": [],
   "source": []
  }
 ],
 "metadata": {
  "kernelspec": {
   "display_name": "EDA",
   "language": "python",
   "name": "eda"
  },
  "language_info": {
   "codemirror_mode": {
    "name": "ipython",
    "version": 3
   },
   "file_extension": ".py",
   "mimetype": "text/x-python",
   "name": "python",
   "nbconvert_exporter": "python",
   "pygments_lexer": "ipython3",
   "version": "3.11.12"
  }
 },
 "nbformat": 4,
 "nbformat_minor": 5
}
