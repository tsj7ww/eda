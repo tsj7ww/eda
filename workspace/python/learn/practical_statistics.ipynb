{
 "cells": [
  {
   "cell_type": "code",
   "execution_count": 2,
   "id": "17dbd177-2982-458f-a56b-1740b4e6b6b9",
   "metadata": {},
   "outputs": [],
   "source": [
    "import os\n",
    "from pathlib import Path\n",
    "import datetime\n",
    "import yaml\n",
    "import json\n",
    "\n",
    "import numpy as np\n",
    "import pandas as pd\n",
    "import matplotlib.pyplot as plt\n",
    "import seaborn as sns"
   ]
  },
  {
   "cell_type": "code",
   "execution_count": null,
   "id": "301ebd7a-dee3-4c12-afff-eac57c87f2b0",
   "metadata": {},
   "outputs": [],
   "source": []
  },
  {
   "cell_type": "code",
   "execution_count": null,
   "id": "770a49c9-da15-4234-a11e-63ea5511e285",
   "metadata": {},
   "outputs": [],
   "source": []
  },
  {
   "cell_type": "markdown",
   "id": "cb47fdbe-89c7-4b7e-ad6d-aaaa6611be61",
   "metadata": {},
   "source": [
    "# Practical Statistics for Data Scientists\n",
    "##### *Peter Bruce, Andrew Bruce, Pater Gedwick*"
   ]
  },
  {
   "cell_type": "code",
   "execution_count": null,
   "id": "3aef17c0-8431-49d2-b02c-ebef5794ffff",
   "metadata": {},
   "outputs": [],
   "source": []
  },
  {
   "cell_type": "code",
   "execution_count": null,
   "id": "139f9a45-5568-46b3-8e6f-cce26ef3dd3f",
   "metadata": {},
   "outputs": [],
   "source": []
  },
  {
   "cell_type": "markdown",
   "id": "7a2526ee-c9d5-470b-99c5-6928e5e10ff0",
   "metadata": {},
   "source": [
    "# Exploratory Data Analysis\n",
    "\n",
    "## Structured Data\n",
    "\n",
    "Data types\n",
    "- Numeric - numeric scale\n",
    "    - Continuous - any value in an interval\n",
    "    - Discrete - only integer values\n",
    "- Categorical - only takes on specific set of values (e.g. enums)\n",
    "    - Binary - two categories of data (0 / 1)\n",
    "    - Ordinal - categorical data with explicit ordering\n",
    "\n",
    "Rectangular data\n",
    "- Dataframe - tabular data\n",
    "- Feature - table column, input variable\n",
    "- Outcome - dependent variable, response, target, output\n",
    "- Records - row within table\n",
    "\n",
    "Estimates of location\n",
    "- Mean - middle\n",
    "- Weighted mean - middle accounting for different group sizes\n",
    "- Median - middle, robust to outliers\n",
    "- Percentile - percentage of data below this point\n",
    "- Weighted median - ...\n",
    "- Trimmed mean - mean after removing outliers\n",
    "- Robust - not sensitive to extreme values\n",
    "- Outlier - extreme value\n",
    "\n",
    "Variability\n",
    "- Deviations - diffeence between observed value and the predicted location\n",
    "- Variance (MSE mean squared error) - sum of squared deviations from mean divided by n-1\n",
    "- Standard deviation - square root of variance\n",
    "- Mean absolute deviation - mean absolute values of the deviations from the mean\n",
    "- Range - max minus min\n",
    "- Percentile\n",
    "- Interquarile range - difference between 75% and 25% percentile\n",
    "\n",
    "Exploring the distribution\n",
    "- Boxplot\n",
    "- Frequency table\n",
    "- Histogram\n",
    "- Density plot\n",
    "\n",
    "Exploring categorical data\n",
    "- Mode\n",
    "- Expectected value\n",
    "- Bar charts (stacked, % of total)\n",
    "- Pie charts\n",
    "\n",
    "Exploring numerical data relationships\n",
    "- Correlation - %delta in Y explained by a %delta in X\n",
    "- Scatterplot\n",
    "- Contour plot - density curve for two numerical variables\n",
    "- Violin plot - boxplot with density estimate"
   ]
  },
  {
   "cell_type": "markdown",
   "id": "cf163f6c-5a00-46ae-92f3-cb19784fdca3",
   "metadata": {},
   "source": [
    "# Data and Sampling Distributions\n",
    "\n",
    "Random sampling terms\n",
    "- Sample - subset from a larger data set\n",
    "- Population - entire dataset\n",
    "- N (n) - size of the population (sample)\n",
    "- Random sampling - dividing the population"
   ]
  },
  {
   "cell_type": "code",
   "execution_count": null,
   "id": "facfe972-cf43-4624-bd98-587d6658fb98",
   "metadata": {},
   "outputs": [],
   "source": []
  },
  {
   "cell_type": "code",
   "execution_count": null,
   "id": "8ed2bbef-75d9-4ca3-a915-991a5d448977",
   "metadata": {},
   "outputs": [],
   "source": []
  },
  {
   "cell_type": "code",
   "execution_count": null,
   "id": "d5bd9239-9abf-4d90-8ae1-5aff2fbe549f",
   "metadata": {},
   "outputs": [],
   "source": []
  },
  {
   "cell_type": "code",
   "execution_count": null,
   "id": "a2e46e91-5d0c-400a-a578-84ac2b4854cd",
   "metadata": {},
   "outputs": [],
   "source": []
  }
 ],
 "metadata": {
  "kernelspec": {
   "display_name": "Python 3 (ipykernel)",
   "language": "python",
   "name": "python3"
  },
  "language_info": {
   "codemirror_mode": {
    "name": "ipython",
    "version": 3
   },
   "file_extension": ".py",
   "mimetype": "text/x-python",
   "name": "python",
   "nbconvert_exporter": "python",
   "pygments_lexer": "ipython3",
   "version": "3.10.16"
  }
 },
 "nbformat": 4,
 "nbformat_minor": 5
}
