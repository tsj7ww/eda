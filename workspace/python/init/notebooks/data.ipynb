{
 "cells": [
  {
   "cell_type": "code",
   "execution_count": null,
   "id": "d410b2d1-1c04-45dc-a7ad-c164333ebda3",
   "metadata": {},
   "outputs": [],
   "source": [
    "import os\n",
    "import datetime\n",
    "import re\n",
    "import subprocess\n",
    "import stat\n",
    "\n",
    "# analysis\n",
    "import numpy as np\n",
    "import pandas as pd"
   ]
  },
  {
   "cell_type": "code",
   "execution_count": null,
   "id": "0f3fbece-2456-45d4-9ef6-67785b2ef176",
   "metadata": {},
   "outputs": [],
   "source": []
  },
  {
   "cell_type": "code",
   "execution_count": null,
   "id": "11dacd3a-68e8-48b6-b059-6dc820b10391",
   "metadata": {},
   "outputs": [],
   "source": [
    "# education stats"
   ]
  },
  {
   "cell_type": "code",
   "execution_count": null,
   "id": "c1ee4cc2-e4c4-4d45-a9de-c4016afeb729",
   "metadata": {},
   "outputs": [],
   "source": [
    "segment,name = 'education-statistics','edstats-csv-zip-32-mb-'\n",
    "download = f'/data/scripts/{segment}.sh'\n",
    "data = f'/data/raw/{name}'"
   ]
  },
  {
   "cell_type": "code",
   "execution_count": null,
   "id": "3be03515-3c67-403c-b1a7-70559bcf47f3",
   "metadata": {},
   "outputs": [],
   "source": []
  },
  {
   "cell_type": "code",
   "execution_count": null,
   "id": "5c148790-8c6e-4469-80af-f406c5a9cf4f",
   "metadata": {},
   "outputs": [],
   "source": []
  },
  {
   "cell_type": "code",
   "execution_count": null,
   "id": "c98d01e3-a8ea-4cc2-9476-f1ff25674a6a",
   "metadata": {},
   "outputs": [],
   "source": [
    "# fraud"
   ]
  },
  {
   "cell_type": "code",
   "execution_count": null,
   "id": "d36e63e1-1055-4684-92ed-d343651f3a96",
   "metadata": {},
   "outputs": [],
   "source": [
    "segment,name = 'fraud','creditcard.csv'\n",
    "download = f'/data/scripts/{segment}.sh'\n",
    "data = f'/data/raw/{name}'"
   ]
  },
  {
   "cell_type": "code",
   "execution_count": null,
   "id": "13e8b428-9102-4c0c-a248-5e36eace3858",
   "metadata": {},
   "outputs": [],
   "source": [
    "os.chmod(download, stat.S_IXUSR | stat.S_IRUSR | stat.S_IWUSR)\n",
    "subprocess.run([download])"
   ]
  },
  {
   "cell_type": "code",
   "execution_count": null,
   "id": "9af3c530-6649-4344-ae4f-18c7587fad45",
   "metadata": {},
   "outputs": [],
   "source": [
    "df = pd.read_csv(data)"
   ]
  },
  {
   "cell_type": "code",
   "execution_count": null,
   "id": "291762c1-eb01-48c1-915c-21e91825cacf",
   "metadata": {},
   "outputs": [],
   "source": []
  },
  {
   "cell_type": "code",
   "execution_count": null,
   "id": "a248ad0c-195f-4030-9c68-e513369cf204",
   "metadata": {},
   "outputs": [],
   "source": []
  },
  {
   "cell_type": "code",
   "execution_count": null,
   "id": "17a64d47-a300-4d61-86e7-96f2ca42c5ef",
   "metadata": {},
   "outputs": [],
   "source": []
  },
  {
   "cell_type": "code",
   "execution_count": null,
   "id": "f688c202-f4b4-43b7-84ed-9c8439ea2bc4",
   "metadata": {},
   "outputs": [],
   "source": []
  },
  {
   "cell_type": "code",
   "execution_count": null,
   "id": "b3285460-cd1d-4f37-852c-48c1887d2762",
   "metadata": {},
   "outputs": [],
   "source": []
  },
  {
   "cell_type": "code",
   "execution_count": null,
   "id": "b9d5d1b6-c449-4323-b514-bcde459b49e7",
   "metadata": {},
   "outputs": [],
   "source": []
  },
  {
   "cell_type": "code",
   "execution_count": null,
   "id": "e39e2114-c37a-48e6-83b5-3d2eb16c4cbc",
   "metadata": {},
   "outputs": [],
   "source": []
  },
  {
   "cell_type": "code",
   "execution_count": null,
   "id": "a8f5419d-6843-4f16-9899-29a8e6a7117e",
   "metadata": {},
   "outputs": [],
   "source": []
  }
 ],
 "metadata": {
  "kernelspec": {
   "display_name": "Python 3 (ipykernel)",
   "language": "python",
   "name": "python3"
  },
  "language_info": {
   "codemirror_mode": {
    "name": "ipython",
    "version": 3
   },
   "file_extension": ".py",
   "mimetype": "text/x-python",
   "name": "python",
   "nbconvert_exporter": "python",
   "pygments_lexer": "ipython3",
   "version": "3.10.16"
  }
 },
 "nbformat": 4,
 "nbformat_minor": 5
}
