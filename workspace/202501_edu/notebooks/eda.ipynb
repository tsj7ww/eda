{
 "cells": [
  {
   "cell_type": "code",
   "execution_count": 1,
   "id": "889d5b3d-b7f5-4ffa-8330-745ebd919252",
   "metadata": {},
   "outputs": [],
   "source": [
    "import os\n",
    "import datetime\n",
    "import re\n",
    "\n",
    "import numpy as np\n",
    "import pandas as pd\n",
    "\n",
    "import matplotlib.pyplot as plt\n",
    "import seaborn as sns\n",
    "import plotly.graph_objects as go\n",
    "# import plotly.express as px"
   ]
  },
  {
   "cell_type": "code",
   "execution_count": null,
   "id": "dcba9d85-c459-4363-ae87-53330b18aaa0",
   "metadata": {},
   "outputs": [],
   "source": []
  },
  {
   "cell_type": "code",
   "execution_count": 2,
   "id": "35421507-9ee2-49c0-8d7f-d1855f8cca21",
   "metadata": {},
   "outputs": [],
   "source": [
    "path = '/data/raw/edstats-csv-zip-32-mb-'\n",
    "fname = 'EdStatsData.csv'"
   ]
  },
  {
   "cell_type": "code",
   "execution_count": 3,
   "id": "7e93b558-36b9-4b7e-8f34-b6acc3eeeecc",
   "metadata": {},
   "outputs": [],
   "source": [
    "df = pd.read_csv(os.path.join(path,fname))"
   ]
  },
  {
   "cell_type": "code",
   "execution_count": 4,
   "id": "98afc588-aad9-4556-b22b-fd296be41209",
   "metadata": {},
   "outputs": [
    {
     "data": {
      "text/html": [
       "<div>\n",
       "<style scoped>\n",
       "    .dataframe tbody tr th:only-of-type {\n",
       "        vertical-align: middle;\n",
       "    }\n",
       "\n",
       "    .dataframe tbody tr th {\n",
       "        vertical-align: top;\n",
       "    }\n",
       "\n",
       "    .dataframe thead th {\n",
       "        text-align: right;\n",
       "    }\n",
       "</style>\n",
       "<table border=\"1\" class=\"dataframe\">\n",
       "  <thead>\n",
       "    <tr style=\"text-align: right;\">\n",
       "      <th></th>\n",
       "      <th>Country Name</th>\n",
       "      <th>Country Code</th>\n",
       "      <th>Indicator Name</th>\n",
       "      <th>Indicator Code</th>\n",
       "      <th>1970</th>\n",
       "      <th>1971</th>\n",
       "      <th>1972</th>\n",
       "      <th>1973</th>\n",
       "      <th>1974</th>\n",
       "      <th>1975</th>\n",
       "      <th>...</th>\n",
       "      <th>2060</th>\n",
       "      <th>2065</th>\n",
       "      <th>2070</th>\n",
       "      <th>2075</th>\n",
       "      <th>2080</th>\n",
       "      <th>2085</th>\n",
       "      <th>2090</th>\n",
       "      <th>2095</th>\n",
       "      <th>2100</th>\n",
       "      <th>Unnamed: 69</th>\n",
       "    </tr>\n",
       "  </thead>\n",
       "  <tbody>\n",
       "    <tr>\n",
       "      <th>4</th>\n",
       "      <td>Arab World</td>\n",
       "      <td>ARB</td>\n",
       "      <td>Adjusted net enrolment rate, primary, both sex...</td>\n",
       "      <td>SE.PRM.TENR</td>\n",
       "      <td>54.822121</td>\n",
       "      <td>54.894138</td>\n",
       "      <td>56.209438</td>\n",
       "      <td>57.267109</td>\n",
       "      <td>57.991138</td>\n",
       "      <td>59.365540</td>\n",
       "      <td>...</td>\n",
       "      <td>NaN</td>\n",
       "      <td>NaN</td>\n",
       "      <td>NaN</td>\n",
       "      <td>NaN</td>\n",
       "      <td>NaN</td>\n",
       "      <td>NaN</td>\n",
       "      <td>NaN</td>\n",
       "      <td>NaN</td>\n",
       "      <td>NaN</td>\n",
       "      <td>NaN</td>\n",
       "    </tr>\n",
       "    <tr>\n",
       "      <th>5</th>\n",
       "      <td>Arab World</td>\n",
       "      <td>ARB</td>\n",
       "      <td>Adjusted net enrolment rate, primary, female (%)</td>\n",
       "      <td>SE.PRM.TENR.FE</td>\n",
       "      <td>43.351101</td>\n",
       "      <td>43.318150</td>\n",
       "      <td>44.640701</td>\n",
       "      <td>45.845718</td>\n",
       "      <td>46.449501</td>\n",
       "      <td>48.363892</td>\n",
       "      <td>...</td>\n",
       "      <td>NaN</td>\n",
       "      <td>NaN</td>\n",
       "      <td>NaN</td>\n",
       "      <td>NaN</td>\n",
       "      <td>NaN</td>\n",
       "      <td>NaN</td>\n",
       "      <td>NaN</td>\n",
       "      <td>NaN</td>\n",
       "      <td>NaN</td>\n",
       "      <td>NaN</td>\n",
       "    </tr>\n",
       "    <tr>\n",
       "      <th>6</th>\n",
       "      <td>Arab World</td>\n",
       "      <td>ARB</td>\n",
       "      <td>Adjusted net enrolment rate, primary, gender p...</td>\n",
       "      <td>UIS.NERA.1.GPI</td>\n",
       "      <td>0.658570</td>\n",
       "      <td>0.656400</td>\n",
       "      <td>0.663290</td>\n",
       "      <td>0.672040</td>\n",
       "      <td>0.672610</td>\n",
       "      <td>0.691760</td>\n",
       "      <td>...</td>\n",
       "      <td>NaN</td>\n",
       "      <td>NaN</td>\n",
       "      <td>NaN</td>\n",
       "      <td>NaN</td>\n",
       "      <td>NaN</td>\n",
       "      <td>NaN</td>\n",
       "      <td>NaN</td>\n",
       "      <td>NaN</td>\n",
       "      <td>NaN</td>\n",
       "      <td>NaN</td>\n",
       "    </tr>\n",
       "    <tr>\n",
       "      <th>7</th>\n",
       "      <td>Arab World</td>\n",
       "      <td>ARB</td>\n",
       "      <td>Adjusted net enrolment rate, primary, male (%)</td>\n",
       "      <td>SE.PRM.TENR.MA</td>\n",
       "      <td>65.826233</td>\n",
       "      <td>65.993584</td>\n",
       "      <td>67.301857</td>\n",
       "      <td>68.219078</td>\n",
       "      <td>69.059013</td>\n",
       "      <td>69.914551</td>\n",
       "      <td>...</td>\n",
       "      <td>NaN</td>\n",
       "      <td>NaN</td>\n",
       "      <td>NaN</td>\n",
       "      <td>NaN</td>\n",
       "      <td>NaN</td>\n",
       "      <td>NaN</td>\n",
       "      <td>NaN</td>\n",
       "      <td>NaN</td>\n",
       "      <td>NaN</td>\n",
       "      <td>NaN</td>\n",
       "    </tr>\n",
       "    <tr>\n",
       "      <th>12</th>\n",
       "      <td>Arab World</td>\n",
       "      <td>ARB</td>\n",
       "      <td>Adjusted net intake rate to Grade 1 of primary...</td>\n",
       "      <td>UIS.NIRA.1</td>\n",
       "      <td>52.448921</td>\n",
       "      <td>52.489750</td>\n",
       "      <td>52.635593</td>\n",
       "      <td>53.327000</td>\n",
       "      <td>54.184654</td>\n",
       "      <td>54.865627</td>\n",
       "      <td>...</td>\n",
       "      <td>NaN</td>\n",
       "      <td>NaN</td>\n",
       "      <td>NaN</td>\n",
       "      <td>NaN</td>\n",
       "      <td>NaN</td>\n",
       "      <td>NaN</td>\n",
       "      <td>NaN</td>\n",
       "      <td>NaN</td>\n",
       "      <td>NaN</td>\n",
       "      <td>NaN</td>\n",
       "    </tr>\n",
       "  </tbody>\n",
       "</table>\n",
       "<p>5 rows × 70 columns</p>\n",
       "</div>"
      ],
      "text/plain": [
       "   Country Name Country Code  \\\n",
       "4    Arab World          ARB   \n",
       "5    Arab World          ARB   \n",
       "6    Arab World          ARB   \n",
       "7    Arab World          ARB   \n",
       "12   Arab World          ARB   \n",
       "\n",
       "                                       Indicator Name  Indicator Code  \\\n",
       "4   Adjusted net enrolment rate, primary, both sex...     SE.PRM.TENR   \n",
       "5    Adjusted net enrolment rate, primary, female (%)  SE.PRM.TENR.FE   \n",
       "6   Adjusted net enrolment rate, primary, gender p...  UIS.NERA.1.GPI   \n",
       "7      Adjusted net enrolment rate, primary, male (%)  SE.PRM.TENR.MA   \n",
       "12  Adjusted net intake rate to Grade 1 of primary...      UIS.NIRA.1   \n",
       "\n",
       "         1970       1971       1972       1973       1974       1975  ...  \\\n",
       "4   54.822121  54.894138  56.209438  57.267109  57.991138  59.365540  ...   \n",
       "5   43.351101  43.318150  44.640701  45.845718  46.449501  48.363892  ...   \n",
       "6    0.658570   0.656400   0.663290   0.672040   0.672610   0.691760  ...   \n",
       "7   65.826233  65.993584  67.301857  68.219078  69.059013  69.914551  ...   \n",
       "12  52.448921  52.489750  52.635593  53.327000  54.184654  54.865627  ...   \n",
       "\n",
       "    2060  2065  2070  2075  2080  2085  2090  2095  2100  Unnamed: 69  \n",
       "4    NaN   NaN   NaN   NaN   NaN   NaN   NaN   NaN   NaN          NaN  \n",
       "5    NaN   NaN   NaN   NaN   NaN   NaN   NaN   NaN   NaN          NaN  \n",
       "6    NaN   NaN   NaN   NaN   NaN   NaN   NaN   NaN   NaN          NaN  \n",
       "7    NaN   NaN   NaN   NaN   NaN   NaN   NaN   NaN   NaN          NaN  \n",
       "12   NaN   NaN   NaN   NaN   NaN   NaN   NaN   NaN   NaN          NaN  \n",
       "\n",
       "[5 rows x 70 columns]"
      ]
     },
     "execution_count": 4,
     "metadata": {},
     "output_type": "execute_result"
    }
   ],
   "source": [
    "df.loc[df['1970'].notna()].head()"
   ]
  },
  {
   "cell_type": "code",
   "execution_count": 5,
   "id": "7e4b92ea-69a5-483f-9ece-2f1ed5f1a587",
   "metadata": {},
   "outputs": [],
   "source": [
    "# df['Country Name'].unique()"
   ]
  },
  {
   "cell_type": "code",
   "execution_count": null,
   "id": "f5f37f3b-8e4f-487f-b573-105e36bbfb46",
   "metadata": {},
   "outputs": [],
   "source": []
  },
  {
   "cell_type": "code",
   "execution_count": 6,
   "id": "b0c0a6bb-d7b5-4760-b254-4cb866d9f72a",
   "metadata": {},
   "outputs": [],
   "source": [
    "inds = df.loc[(df['Country Name']=='United States') & (df['2010'].notna())]['Indicator Name'].unique()"
   ]
  },
  {
   "cell_type": "code",
   "execution_count": 7,
   "id": "69204257-af00-40ed-993c-d3137fab1e5b",
   "metadata": {},
   "outputs": [
    {
     "name": "stdout",
     "output_type": "stream",
     "text": [
      "Adjusted net enrolment rate, lower secondary, both sexes (%)\n",
      "Adjusted net enrolment rate, lower secondary, female (%)\n",
      "Adjusted net enrolment rate, lower secondary, male (%)\n",
      "Adjusted net enrolment rate, primary, both sexes (%)\n",
      "Adjusted net enrolment rate, primary, female (%)\n",
      "Adjusted net enrolment rate, primary, male (%)\n"
     ]
    }
   ],
   "source": [
    "for i in inds:\n",
    "    # print(i)\n",
    "    # pattern = 'drop-out rate from .* primary .* both sexes .*'\n",
    "    pattern1 = 'adjusted net enrolment rate'\n",
    "    regex1 = re.compile(pattern1, re.IGNORECASE)\n",
    "    pattern2 = 'gender'\n",
    "    regex2 = re.compile(pattern2, re.IGNORECASE)\n",
    "    if regex1.search(i) and not regex2.search(i):\n",
    "        print(i)"
   ]
  },
  {
   "cell_type": "code",
   "execution_count": null,
   "id": "42f61e2d-6132-4350-b589-4fb674a0aae9",
   "metadata": {},
   "outputs": [],
   "source": []
  },
  {
   "cell_type": "code",
   "execution_count": 8,
   "id": "f8265e51-4ee0-4002-9982-0cf7748ed858",
   "metadata": {},
   "outputs": [],
   "source": [
    "prim_dropout_rate = df.query(\n",
    "    '`Country Name` == \"United States\"'\n",
    "    'and `Indicator Name`.str.contains(@pattern1, case=False, na=False)'\n",
    "    'and not `Indicator Name`.str.contains(@pattern2, case=False, na=False)'\n",
    ")"
   ]
  },
  {
   "cell_type": "code",
   "execution_count": 9,
   "id": "a1e529ca-4ee6-4b74-b8e4-17efa32560ab",
   "metadata": {},
   "outputs": [
    {
     "data": {
      "text/html": [
       "<div>\n",
       "<style scoped>\n",
       "    .dataframe tbody tr th:only-of-type {\n",
       "        vertical-align: middle;\n",
       "    }\n",
       "\n",
       "    .dataframe tbody tr th {\n",
       "        vertical-align: top;\n",
       "    }\n",
       "\n",
       "    .dataframe thead th {\n",
       "        text-align: right;\n",
       "    }\n",
       "</style>\n",
       "<table border=\"1\" class=\"dataframe\">\n",
       "  <thead>\n",
       "    <tr style=\"text-align: right;\">\n",
       "      <th></th>\n",
       "      <th>Country Name</th>\n",
       "      <th>Country Code</th>\n",
       "      <th>Indicator Name</th>\n",
       "      <th>Indicator Code</th>\n",
       "      <th>1970</th>\n",
       "      <th>1971</th>\n",
       "      <th>1972</th>\n",
       "      <th>1973</th>\n",
       "      <th>1974</th>\n",
       "      <th>1975</th>\n",
       "      <th>...</th>\n",
       "      <th>2060</th>\n",
       "      <th>2065</th>\n",
       "      <th>2070</th>\n",
       "      <th>2075</th>\n",
       "      <th>2080</th>\n",
       "      <th>2085</th>\n",
       "      <th>2090</th>\n",
       "      <th>2095</th>\n",
       "      <th>2100</th>\n",
       "      <th>Unnamed: 69</th>\n",
       "    </tr>\n",
       "  </thead>\n",
       "  <tbody>\n",
       "    <tr>\n",
       "      <th>846615</th>\n",
       "      <td>United States</td>\n",
       "      <td>USA</td>\n",
       "      <td>Adjusted net enrolment rate, lower secondary, ...</td>\n",
       "      <td>UIS.NERA.2</td>\n",
       "      <td>NaN</td>\n",
       "      <td>NaN</td>\n",
       "      <td>NaN</td>\n",
       "      <td>NaN</td>\n",
       "      <td>NaN</td>\n",
       "      <td>NaN</td>\n",
       "      <td>...</td>\n",
       "      <td>NaN</td>\n",
       "      <td>NaN</td>\n",
       "      <td>NaN</td>\n",
       "      <td>NaN</td>\n",
       "      <td>NaN</td>\n",
       "      <td>NaN</td>\n",
       "      <td>NaN</td>\n",
       "      <td>NaN</td>\n",
       "      <td>NaN</td>\n",
       "      <td>NaN</td>\n",
       "    </tr>\n",
       "    <tr>\n",
       "      <th>846616</th>\n",
       "      <td>United States</td>\n",
       "      <td>USA</td>\n",
       "      <td>Adjusted net enrolment rate, lower secondary, ...</td>\n",
       "      <td>UIS.NERA.2.F</td>\n",
       "      <td>NaN</td>\n",
       "      <td>NaN</td>\n",
       "      <td>NaN</td>\n",
       "      <td>NaN</td>\n",
       "      <td>NaN</td>\n",
       "      <td>NaN</td>\n",
       "      <td>...</td>\n",
       "      <td>NaN</td>\n",
       "      <td>NaN</td>\n",
       "      <td>NaN</td>\n",
       "      <td>NaN</td>\n",
       "      <td>NaN</td>\n",
       "      <td>NaN</td>\n",
       "      <td>NaN</td>\n",
       "      <td>NaN</td>\n",
       "      <td>NaN</td>\n",
       "      <td>NaN</td>\n",
       "    </tr>\n",
       "    <tr>\n",
       "      <th>846618</th>\n",
       "      <td>United States</td>\n",
       "      <td>USA</td>\n",
       "      <td>Adjusted net enrolment rate, lower secondary, ...</td>\n",
       "      <td>UIS.NERA.2.M</td>\n",
       "      <td>NaN</td>\n",
       "      <td>NaN</td>\n",
       "      <td>NaN</td>\n",
       "      <td>NaN</td>\n",
       "      <td>NaN</td>\n",
       "      <td>NaN</td>\n",
       "      <td>...</td>\n",
       "      <td>NaN</td>\n",
       "      <td>NaN</td>\n",
       "      <td>NaN</td>\n",
       "      <td>NaN</td>\n",
       "      <td>NaN</td>\n",
       "      <td>NaN</td>\n",
       "      <td>NaN</td>\n",
       "      <td>NaN</td>\n",
       "      <td>NaN</td>\n",
       "      <td>NaN</td>\n",
       "    </tr>\n",
       "    <tr>\n",
       "      <th>846619</th>\n",
       "      <td>United States</td>\n",
       "      <td>USA</td>\n",
       "      <td>Adjusted net enrolment rate, primary, both sex...</td>\n",
       "      <td>SE.PRM.TENR</td>\n",
       "      <td>NaN</td>\n",
       "      <td>NaN</td>\n",
       "      <td>NaN</td>\n",
       "      <td>NaN</td>\n",
       "      <td>NaN</td>\n",
       "      <td>NaN</td>\n",
       "      <td>...</td>\n",
       "      <td>NaN</td>\n",
       "      <td>NaN</td>\n",
       "      <td>NaN</td>\n",
       "      <td>NaN</td>\n",
       "      <td>NaN</td>\n",
       "      <td>NaN</td>\n",
       "      <td>NaN</td>\n",
       "      <td>NaN</td>\n",
       "      <td>NaN</td>\n",
       "      <td>NaN</td>\n",
       "    </tr>\n",
       "    <tr>\n",
       "      <th>846620</th>\n",
       "      <td>United States</td>\n",
       "      <td>USA</td>\n",
       "      <td>Adjusted net enrolment rate, primary, female (%)</td>\n",
       "      <td>SE.PRM.TENR.FE</td>\n",
       "      <td>NaN</td>\n",
       "      <td>NaN</td>\n",
       "      <td>NaN</td>\n",
       "      <td>NaN</td>\n",
       "      <td>NaN</td>\n",
       "      <td>NaN</td>\n",
       "      <td>...</td>\n",
       "      <td>NaN</td>\n",
       "      <td>NaN</td>\n",
       "      <td>NaN</td>\n",
       "      <td>NaN</td>\n",
       "      <td>NaN</td>\n",
       "      <td>NaN</td>\n",
       "      <td>NaN</td>\n",
       "      <td>NaN</td>\n",
       "      <td>NaN</td>\n",
       "      <td>NaN</td>\n",
       "    </tr>\n",
       "    <tr>\n",
       "      <th>846622</th>\n",
       "      <td>United States</td>\n",
       "      <td>USA</td>\n",
       "      <td>Adjusted net enrolment rate, primary, male (%)</td>\n",
       "      <td>SE.PRM.TENR.MA</td>\n",
       "      <td>NaN</td>\n",
       "      <td>NaN</td>\n",
       "      <td>NaN</td>\n",
       "      <td>NaN</td>\n",
       "      <td>NaN</td>\n",
       "      <td>NaN</td>\n",
       "      <td>...</td>\n",
       "      <td>NaN</td>\n",
       "      <td>NaN</td>\n",
       "      <td>NaN</td>\n",
       "      <td>NaN</td>\n",
       "      <td>NaN</td>\n",
       "      <td>NaN</td>\n",
       "      <td>NaN</td>\n",
       "      <td>NaN</td>\n",
       "      <td>NaN</td>\n",
       "      <td>NaN</td>\n",
       "    </tr>\n",
       "    <tr>\n",
       "      <th>846623</th>\n",
       "      <td>United States</td>\n",
       "      <td>USA</td>\n",
       "      <td>Adjusted net enrolment rate, upper secondary, ...</td>\n",
       "      <td>UIS.NERA.3</td>\n",
       "      <td>NaN</td>\n",
       "      <td>NaN</td>\n",
       "      <td>NaN</td>\n",
       "      <td>NaN</td>\n",
       "      <td>NaN</td>\n",
       "      <td>NaN</td>\n",
       "      <td>...</td>\n",
       "      <td>NaN</td>\n",
       "      <td>NaN</td>\n",
       "      <td>NaN</td>\n",
       "      <td>NaN</td>\n",
       "      <td>NaN</td>\n",
       "      <td>NaN</td>\n",
       "      <td>NaN</td>\n",
       "      <td>NaN</td>\n",
       "      <td>NaN</td>\n",
       "      <td>NaN</td>\n",
       "    </tr>\n",
       "    <tr>\n",
       "      <th>846624</th>\n",
       "      <td>United States</td>\n",
       "      <td>USA</td>\n",
       "      <td>Adjusted net enrolment rate, upper secondary, ...</td>\n",
       "      <td>UIS.NERA.3.F</td>\n",
       "      <td>NaN</td>\n",
       "      <td>NaN</td>\n",
       "      <td>NaN</td>\n",
       "      <td>NaN</td>\n",
       "      <td>NaN</td>\n",
       "      <td>NaN</td>\n",
       "      <td>...</td>\n",
       "      <td>NaN</td>\n",
       "      <td>NaN</td>\n",
       "      <td>NaN</td>\n",
       "      <td>NaN</td>\n",
       "      <td>NaN</td>\n",
       "      <td>NaN</td>\n",
       "      <td>NaN</td>\n",
       "      <td>NaN</td>\n",
       "      <td>NaN</td>\n",
       "      <td>NaN</td>\n",
       "    </tr>\n",
       "    <tr>\n",
       "      <th>846626</th>\n",
       "      <td>United States</td>\n",
       "      <td>USA</td>\n",
       "      <td>Adjusted net enrolment rate, upper secondary, ...</td>\n",
       "      <td>UIS.NERA.3.M</td>\n",
       "      <td>NaN</td>\n",
       "      <td>NaN</td>\n",
       "      <td>NaN</td>\n",
       "      <td>NaN</td>\n",
       "      <td>NaN</td>\n",
       "      <td>NaN</td>\n",
       "      <td>...</td>\n",
       "      <td>NaN</td>\n",
       "      <td>NaN</td>\n",
       "      <td>NaN</td>\n",
       "      <td>NaN</td>\n",
       "      <td>NaN</td>\n",
       "      <td>NaN</td>\n",
       "      <td>NaN</td>\n",
       "      <td>NaN</td>\n",
       "      <td>NaN</td>\n",
       "      <td>NaN</td>\n",
       "    </tr>\n",
       "  </tbody>\n",
       "</table>\n",
       "<p>9 rows × 70 columns</p>\n",
       "</div>"
      ],
      "text/plain": [
       "         Country Name Country Code  \\\n",
       "846615  United States          USA   \n",
       "846616  United States          USA   \n",
       "846618  United States          USA   \n",
       "846619  United States          USA   \n",
       "846620  United States          USA   \n",
       "846622  United States          USA   \n",
       "846623  United States          USA   \n",
       "846624  United States          USA   \n",
       "846626  United States          USA   \n",
       "\n",
       "                                           Indicator Name  Indicator Code  \\\n",
       "846615  Adjusted net enrolment rate, lower secondary, ...      UIS.NERA.2   \n",
       "846616  Adjusted net enrolment rate, lower secondary, ...    UIS.NERA.2.F   \n",
       "846618  Adjusted net enrolment rate, lower secondary, ...    UIS.NERA.2.M   \n",
       "846619  Adjusted net enrolment rate, primary, both sex...     SE.PRM.TENR   \n",
       "846620   Adjusted net enrolment rate, primary, female (%)  SE.PRM.TENR.FE   \n",
       "846622     Adjusted net enrolment rate, primary, male (%)  SE.PRM.TENR.MA   \n",
       "846623  Adjusted net enrolment rate, upper secondary, ...      UIS.NERA.3   \n",
       "846624  Adjusted net enrolment rate, upper secondary, ...    UIS.NERA.3.F   \n",
       "846626  Adjusted net enrolment rate, upper secondary, ...    UIS.NERA.3.M   \n",
       "\n",
       "        1970  1971  1972  1973  1974  1975  ...  2060  2065  2070  2075  2080  \\\n",
       "846615   NaN   NaN   NaN   NaN   NaN   NaN  ...   NaN   NaN   NaN   NaN   NaN   \n",
       "846616   NaN   NaN   NaN   NaN   NaN   NaN  ...   NaN   NaN   NaN   NaN   NaN   \n",
       "846618   NaN   NaN   NaN   NaN   NaN   NaN  ...   NaN   NaN   NaN   NaN   NaN   \n",
       "846619   NaN   NaN   NaN   NaN   NaN   NaN  ...   NaN   NaN   NaN   NaN   NaN   \n",
       "846620   NaN   NaN   NaN   NaN   NaN   NaN  ...   NaN   NaN   NaN   NaN   NaN   \n",
       "846622   NaN   NaN   NaN   NaN   NaN   NaN  ...   NaN   NaN   NaN   NaN   NaN   \n",
       "846623   NaN   NaN   NaN   NaN   NaN   NaN  ...   NaN   NaN   NaN   NaN   NaN   \n",
       "846624   NaN   NaN   NaN   NaN   NaN   NaN  ...   NaN   NaN   NaN   NaN   NaN   \n",
       "846626   NaN   NaN   NaN   NaN   NaN   NaN  ...   NaN   NaN   NaN   NaN   NaN   \n",
       "\n",
       "        2085  2090  2095  2100  Unnamed: 69  \n",
       "846615   NaN   NaN   NaN   NaN          NaN  \n",
       "846616   NaN   NaN   NaN   NaN          NaN  \n",
       "846618   NaN   NaN   NaN   NaN          NaN  \n",
       "846619   NaN   NaN   NaN   NaN          NaN  \n",
       "846620   NaN   NaN   NaN   NaN          NaN  \n",
       "846622   NaN   NaN   NaN   NaN          NaN  \n",
       "846623   NaN   NaN   NaN   NaN          NaN  \n",
       "846624   NaN   NaN   NaN   NaN          NaN  \n",
       "846626   NaN   NaN   NaN   NaN          NaN  \n",
       "\n",
       "[9 rows x 70 columns]"
      ]
     },
     "execution_count": 9,
     "metadata": {},
     "output_type": "execute_result"
    }
   ],
   "source": [
    "prim_dropout_rate"
   ]
  },
  {
   "cell_type": "code",
   "execution_count": null,
   "id": "02046dd1-3690-4f33-a010-b1930e58c9c9",
   "metadata": {},
   "outputs": [],
   "source": []
  },
  {
   "cell_type": "code",
   "execution_count": 10,
   "id": "9c48600e-5400-48f6-ace3-39427d3d4682",
   "metadata": {},
   "outputs": [],
   "source": [
    "long = prim_dropout_rate.melt(\n",
    "    id_vars=['Country Name','Country Code','Indicator Name','Indicator Code'],\n",
    "    value_vars=None,\n",
    "    var_name='Year',\n",
    "    value_name='Metric',\n",
    "    # col_level: 'Level | None' = None,\n",
    "    # ignore_index: 'bool' = True,\n",
    ")"
   ]
  },
  {
   "cell_type": "code",
   "execution_count": 17,
   "id": "cd223748",
   "metadata": {},
   "outputs": [
    {
     "name": "stderr",
     "output_type": "stream",
     "text": [
      "/tmp/ipykernel_9/2108027296.py:2: SettingWithCopyWarning:\n",
      "\n",
      "\n",
      "A value is trying to be set on a copy of a slice from a DataFrame.\n",
      "Try using .loc[row_indexer,col_indexer] = value instead\n",
      "\n",
      "See the caveats in the documentation: https://pandas.pydata.org/pandas-docs/stable/user_guide/indexing.html#returning-a-view-versus-a-copy\n",
      "\n"
     ]
    }
   ],
   "source": [
    "plot_df = long.loc[long.Metric.notna()]\n",
    "plot_df['Segment'] = plot_df['Indicator Name']\\\n",
    "    .str.split(',').str[1:].str.join(' -').str.strip().str[:-4]"
   ]
  },
  {
   "cell_type": "code",
   "execution_count": 18,
   "id": "b1d6f2fe-bc19-45f5-9657-b7faba90ebbf",
   "metadata": {},
   "outputs": [
    {
     "data": {
      "image/png": "[encoded data removed]",
      "text/plain": [
       "<Figure size 1200x600 with 1 Axes>"
      ]
     },
     "metadata": {},
     "output_type": "display_data"
    }
   ],
   "source": [
    "# Get unique segments\n",
    "segments = plot_df['Indicator Name'].unique()\n",
    "\n",
    "# Create plot\n",
    "plt.figure(figsize=(12, 6))\n",
    "\n",
    "# Iterate through segments and plot each one\n",
    "for segment in segments:\n",
    "    # Filter data for this segment\n",
    "    mask = plot_df['Indicator Name'] == segment\n",
    "    segment_data = plot_df[mask]\n",
    "    \n",
    "    # Plot this segment's line\n",
    "    plt.plot(segment_data['Year'], \n",
    "             segment_data['Metric'], \n",
    "             label=segment,)\n",
    "            #  marker='-')  # optional: adds points at each data point\n",
    "\n",
    "# Customize plot\n",
    "plt.title('Metric by Segment Over Time')\n",
    "plt.xlabel('Year')\n",
    "plt.ylabel('Metric')\n",
    "plt.legend()\n",
    "plt.grid(True)\n",
    "\n",
    "plt.show()"
   ]
  },
  {
   "cell_type": "code",
   "execution_count": 19,
   "id": "40eb0dde-b5de-48ae-a91c-fcad62c64bb0",
   "metadata": {},
   "outputs": [],
   "source": [
    "# help(pd.DataFrame.plot)"
   ]
  },
  {
   "cell_type": "code",
   "execution_count": 29,
   "id": "574852b1",
   "metadata": {},
   "outputs": [],
   "source": []
  },
  {
   "cell_type": "code",
   "execution_count": 20,
   "id": "d192c0b5-06ba-4d66-ab07-d4d3e2b647d9",
   "metadata": {},
   "outputs": [
    {
     "data": {
      "application/vnd.plotly.v1+json": {
       "config": {
        "plotlyServerURL": "https://plot.ly"
       },
       "data": [
        {
         "hovertemplate": "%{x}<br>lower secondary - both sexes: %{y:.1f}%<extra></extra>",
         "mode": "lines+markers",
         "name": "lower secondary - both sexes",
         "type": "scatter",
         "x": [
          "1987",
          "1993",
          "1994",
          "1995",
          "1996",
          "1999",
          "2000",
          "2001",
          "2002",
          "2003",
          "2004",
          "2005",
          "2006",
          "2007",
          "2008",
          "2009",
          "2010",
          "2011",
          "2012",
          "2013",
          "2014"
         ],
         "y": [
          83.8262405395508,
          86.5791015625,
          87.7786636352539,
          87.5590133666992,
          87.5040817260742,
          83.9985885620117,
          88.5956115722656,
          89.437629699707,
          88.7692489624023,
          89.4786911010742,
          87.2468185424805,
          88.1108932495117,
          89.4728164672852,
          88.482421875,
          87.2953567504883,
          87.3668899536133,
          86.6355133056641,
          87.6742630004883,
          88.2436981201172,
          88.3042068481445,
          88.2127685546875
         ]
        },
        {
         "hovertemplate": "%{x}<br>lower secondary - female: %{y:.1f}%<extra></extra>",
         "mode": "lines+markers",
         "name": "lower secondary - female",
         "type": "scatter",
         "x": [
          "1987",
          "1993",
          "1994",
          "1995",
          "1996",
          "2000",
          "2001",
          "2002",
          "2003",
          "2004",
          "2005",
          "2006",
          "2007",
          "2008",
          "2009",
          "2010",
          "2011",
          "2012",
          "2013",
          "2014"
         ],
         "y": [
          87.2118835449219,
          89.1127395629883,
          90.2433700561523,
          90.1501388549805,
          89.2713775634766,
          91.8361968994141,
          91.219970703125,
          89.98193359375,
          91.5220565795898,
          91.0429611206055,
          89.5782623291016,
          90.2805099487305,
          90.6106872558594,
          89.1400833129883,
          88.7921600341797,
          89.0051422119141,
          88.9281997680664,
          90.2633666992188,
          89.4806518554688,
          90.3819198608398
         ]
        },
        {
         "hovertemplate": "%{x}<br>lower secondary - male: %{y:.1f}%<extra></extra>",
         "mode": "lines+markers",
         "name": "lower secondary - male",
         "type": "scatter",
         "x": [
          "1987",
          "1993",
          "1994",
          "1995",
          "1996",
          "2000",
          "2001",
          "2002",
          "2003",
          "2004",
          "2005",
          "2006",
          "2007",
          "2008",
          "2009",
          "2010",
          "2011",
          "2012",
          "2013",
          "2014"
         ],
         "y": [
          80.6512908935547,
          84.199462890625,
          85.4578628540039,
          85.1083602905273,
          85.8243408203125,
          85.5253372192383,
          87.7491683959961,
          87.6228866577148,
          87.5511093139648,
          83.6691970825195,
          86.7271118164063,
          88.7097396850586,
          86.4683837890625,
          85.5494079589844,
          86.0182113647461,
          84.3929290771484,
          86.4869003295898,
          86.3271331787109,
          87.185546875,
          86.1458969116211
         ]
        },
        {
         "hovertemplate": "%{x}<br>primary - both sexes: %{y:.1f}%<extra></extra>",
         "mode": "lines+markers",
         "name": "primary - both sexes",
         "type": "scatter",
         "x": [
          "1999",
          "2000",
          "2001",
          "2002",
          "2003",
          "2004",
          "2005",
          "2006",
          "2007",
          "2008",
          "2009",
          "2010",
          "2011",
          "2012",
          "2013",
          "2014",
          "2015"
         ],
         "y": [
          97.5138931274414,
          97.6168670654297,
          97.3115234375,
          96.0032577514648,
          95.5352325439453,
          94.4362487792969,
          95.2743301391602,
          96.2528991699219,
          97.1722793579102,
          97.4857482910156,
          96.0313034057617,
          94.7958221435547,
          93.9446411132813,
          94.1093673706055,
          93.8258438110352,
          94.0345306396484,
          94.4560470581055
         ]
        },
        {
         "hovertemplate": "%{x}<br>primary - female: %{y:.1f}%<extra></extra>",
         "mode": "lines+markers",
         "name": "primary - female",
         "type": "scatter",
         "x": [
          "1999",
          "2000",
          "2001",
          "2002",
          "2003",
          "2004",
          "2005",
          "2006",
          "2007",
          "2008",
          "2009",
          "2010",
          "2011",
          "2012",
          "2013",
          "2014",
          "2015"
         ],
         "y": [
          97.7910537719727,
          97.7367782592773,
          98.0378265380859,
          96.7921829223633,
          96.1709671020508,
          95.1438522338867,
          95.9945983886719,
          97.2575531005859,
          97.8554534912109,
          97.9434280395508,
          97.0973587036133,
          95.13818359375,
          94.6745681762695,
          94.1039123535156,
          93.817741394043,
          94.4320602416992,
          94.7655410766602
         ]
        },
        {
         "hovertemplate": "%{x}<br>primary - male: %{y:.1f}%<extra></extra>",
         "mode": "lines+markers",
         "name": "primary - male",
         "type": "scatter",
         "x": [
          "1999",
          "2000",
          "2001",
          "2002",
          "2003",
          "2004",
          "2005",
          "2006",
          "2007",
          "2008",
          "2009",
          "2010",
          "2011",
          "2012",
          "2013",
          "2014",
          "2015"
         ],
         "y": [
          97.250617980957,
          97.5029067993164,
          96.6208572387695,
          95.2535705566406,
          94.9310836791992,
          93.763427734375,
          94.5888671875,
          95.2958374023438,
          96.5214080810547,
          97.049430847168,
          95.0139923095703,
          94.46875,
          93.2464904785156,
          94.1146087646484,
          93.833610534668,
          93.6527862548828,
          94.1588134765625
         ]
        },
        {
         "hovertemplate": "%{x}<br>upper secondary - both sexes: %{y:.1f}%<extra></extra>",
         "mode": "lines+markers",
         "name": "upper secondary - both sexes",
         "type": "scatter",
         "x": [
          "2013",
          "2014"
         ],
         "y": [
          77.4836883544922,
          79.8881988525391
         ]
        },
        {
         "hovertemplate": "%{x}<br>upper secondary - female: %{y:.1f}%<extra></extra>",
         "mode": "lines+markers",
         "name": "upper secondary - female",
         "type": "scatter",
         "x": [
          "2013",
          "2014"
         ],
         "y": [
          79.9035186767578,
          82.9001083374023
         ]
        },
        {
         "hovertemplate": "%{x}<br>upper secondary - male: %{y:.1f}%<extra></extra>",
         "mode": "lines+markers",
         "name": "upper secondary - male",
         "type": "scatter",
         "x": [
          "2013",
          "2014"
         ],
         "y": [
          75.1999969482422,
          77.0411071777344
         ]
        }
       ],
       "layout": {
        "height": 700,
        "legend": {
         "font": {
          "size": 10
         },
         "orientation": "h",
         "x": 0.01,
         "xanchor": "left",
         "y": 1.02,
         "yanchor": "bottom"
        },
        "margin": {
         "t": 200
        },
        "template": {
         "data": {
          "bar": [
           {
            "error_x": {
             "color": "#2a3f5f"
            },
            "error_y": {
             "color": "#2a3f5f"
            },
            "marker": {
             "line": {
              "color": "#E5ECF6",
              "width": 0.5
             },
             "pattern": {
              "fillmode": "overlay",
              "size": 10,
              "solidity": 0.2
             }
            },
            "type": "bar"
           }
          ],
          "barpolar": [
           {
            "marker": {
             "line": {
              "color": "#E5ECF6",
              "width": 0.5
             },
             "pattern": {
              "fillmode": "overlay",
              "size": 10,
              "solidity": 0.2
             }
            },
            "type": "barpolar"
           }
          ],
          "carpet": [
           {
            "aaxis": {
             "endlinecolor": "#2a3f5f",
             "gridcolor": "white",
             "linecolor": "white",
             "minorgridcolor": "white",
             "startlinecolor": "#2a3f5f"
            },
            "baxis": {
             "endlinecolor": "#2a3f5f",
             "gridcolor": "white",
             "linecolor": "white",
             "minorgridcolor": "white",
             "startlinecolor": "#2a3f5f"
            },
            "type": "carpet"
           }
          ],
          "choropleth": [
           {
            "colorbar": {
             "outlinewidth": 0,
             "ticks": ""
            },
            "type": "choropleth"
           }
          ],
          "contour": [
           {
            "colorbar": {
             "outlinewidth": 0,
             "ticks": ""
            },
            "colorscale": [
             [
              0,
              "#0d0887"
             ],
             [
              0.1111111111111111,
              "#46039f"
             ],
             [
              0.2222222222222222,
              "#7201a8"
             ],
             [
              0.3333333333333333,
              "#9c179e"
             ],
             [
              0.4444444444444444,
              "#bd3786"
             ],
             [
              0.5555555555555556,
              "#d8576b"
             ],
             [
              0.6666666666666666,
              "#ed7953"
             ],
             [
              0.7777777777777778,
              "#fb9f3a"
             ],
             [
              0.8888888888888888,
              "#fdca26"
             ],
             [
              1,
              "#f0f921"
             ]
            ],
            "type": "contour"
           }
          ],
          "contourcarpet": [
           {
            "colorbar": {
             "outlinewidth": 0,
             "ticks": ""
            },
            "type": "contourcarpet"
           }
          ],
          "heatmap": [
           {
            "colorbar": {
             "outlinewidth": 0,
             "ticks": ""
            },
            "colorscale": [
             [
              0,
              "#0d0887"
             ],
             [
              0.1111111111111111,
              "#46039f"
             ],
             [
              0.2222222222222222,
              "#7201a8"
             ],
             [
              0.3333333333333333,
              "#9c179e"
             ],
             [
              0.4444444444444444,
              "#bd3786"
             ],
             [
              0.5555555555555556,
              "#d8576b"
             ],
             [
              0.6666666666666666,
              "#ed7953"
             ],
             [
              0.7777777777777778,
              "#fb9f3a"
             ],
             [
              0.8888888888888888,
              "#fdca26"
             ],
             [
              1,
              "#f0f921"
             ]
            ],
            "type": "heatmap"
           }
          ],
          "heatmapgl": [
           {
            "colorbar": {
             "outlinewidth": 0,
             "ticks": ""
            },
            "colorscale": [
             [
              0,
              "#0d0887"
             ],
             [
              0.1111111111111111,
              "#46039f"
             ],
             [
              0.2222222222222222,
              "#7201a8"
             ],
             [
              0.3333333333333333,
              "#9c179e"
             ],
             [
              0.4444444444444444,
              "#bd3786"
             ],
             [
              0.5555555555555556,
              "#d8576b"
             ],
             [
              0.6666666666666666,
              "#ed7953"
             ],
             [
              0.7777777777777778,
              "#fb9f3a"
             ],
             [
              0.8888888888888888,
              "#fdca26"
             ],
             [
              1,
              "#f0f921"
             ]
            ],
            "type": "heatmapgl"
           }
          ],
          "histogram": [
           {
            "marker": {
             "pattern": {
              "fillmode": "overlay",
              "size": 10,
              "solidity": 0.2
             }
            },
            "type": "histogram"
           }
          ],
          "histogram2d": [
           {
            "colorbar": {
             "outlinewidth": 0,
             "ticks": ""
            },
            "colorscale": [
             [
              0,
              "#0d0887"
             ],
             [
              0.1111111111111111,
              "#46039f"
             ],
             [
              0.2222222222222222,
              "#7201a8"
             ],
             [
              0.3333333333333333,
              "#9c179e"
             ],
             [
              0.4444444444444444,
              "#bd3786"
             ],
             [
              0.5555555555555556,
              "#d8576b"
             ],
             [
              0.6666666666666666,
              "#ed7953"
             ],
             [
              0.7777777777777778,
              "#fb9f3a"
             ],
             [
              0.8888888888888888,
              "#fdca26"
             ],
             [
              1,
              "#f0f921"
             ]
            ],
            "type": "histogram2d"
           }
          ],
          "histogram2dcontour": [
           {
            "colorbar": {
             "outlinewidth": 0,
             "ticks": ""
            },
            "colorscale": [
             [
              0,
              "#0d0887"
             ],
             [
              0.1111111111111111,
              "#46039f"
             ],
             [
              0.2222222222222222,
              "#7201a8"
             ],
             [
              0.3333333333333333,
              "#9c179e"
             ],
             [
              0.4444444444444444,
              "#bd3786"
             ],
             [
              0.5555555555555556,
              "#d8576b"
             ],
             [
              0.6666666666666666,
              "#ed7953"
             ],
             [
              0.7777777777777778,
              "#fb9f3a"
             ],
             [
              0.8888888888888888,
              "#fdca26"
             ],
             [
              1,
              "#f0f921"
             ]
            ],
            "type": "histogram2dcontour"
           }
          ],
          "mesh3d": [
           {
            "colorbar": {
             "outlinewidth": 0,
             "ticks": ""
            },
            "type": "mesh3d"
           }
          ],
          "parcoords": [
           {
            "line": {
             "colorbar": {
              "outlinewidth": 0,
              "ticks": ""
             }
            },
            "type": "parcoords"
           }
          ],
          "pie": [
           {
            "automargin": true,
            "type": "pie"
           }
          ],
          "scatter": [
           {
            "fillpattern": {
             "fillmode": "overlay",
             "size": 10,
             "solidity": 0.2
            },
            "type": "scatter"
           }
          ],
          "scatter3d": [
           {
            "line": {
             "colorbar": {
              "outlinewidth": 0,
              "ticks": ""
             }
            },
            "marker": {
             "colorbar": {
              "outlinewidth": 0,
              "ticks": ""
             }
            },
            "type": "scatter3d"
           }
          ],
          "scattercarpet": [
           {
            "marker": {
             "colorbar": {
              "outlinewidth": 0,
              "ticks": ""
             }
            },
            "type": "scattercarpet"
           }
          ],
          "scattergeo": [
           {
            "marker": {
             "colorbar": {
              "outlinewidth": 0,
              "ticks": ""
             }
            },
            "type": "scattergeo"
           }
          ],
          "scattergl": [
           {
            "marker": {
             "colorbar": {
              "outlinewidth": 0,
              "ticks": ""
             }
            },
            "type": "scattergl"
           }
          ],
          "scattermapbox": [
           {
            "marker": {
             "colorbar": {
              "outlinewidth": 0,
              "ticks": ""
             }
            },
            "type": "scattermapbox"
           }
          ],
          "scatterpolar": [
           {
            "marker": {
             "colorbar": {
              "outlinewidth": 0,
              "ticks": ""
             }
            },
            "type": "scatterpolar"
           }
          ],
          "scatterpolargl": [
           {
            "marker": {
             "colorbar": {
              "outlinewidth": 0,
              "ticks": ""
             }
            },
            "type": "scatterpolargl"
           }
          ],
          "scatterternary": [
           {
            "marker": {
             "colorbar": {
              "outlinewidth": 0,
              "ticks": ""
             }
            },
            "type": "scatterternary"
           }
          ],
          "surface": [
           {
            "colorbar": {
             "outlinewidth": 0,
             "ticks": ""
            },
            "colorscale": [
             [
              0,
              "#0d0887"
             ],
             [
              0.1111111111111111,
              "#46039f"
             ],
             [
              0.2222222222222222,
              "#7201a8"
             ],
             [
              0.3333333333333333,
              "#9c179e"
             ],
             [
              0.4444444444444444,
              "#bd3786"
             ],
             [
              0.5555555555555556,
              "#d8576b"
             ],
             [
              0.6666666666666666,
              "#ed7953"
             ],
             [
              0.7777777777777778,
              "#fb9f3a"
             ],
             [
              0.8888888888888888,
              "#fdca26"
             ],
             [
              1,
              "#f0f921"
             ]
            ],
            "type": "surface"
           }
          ],
          "table": [
           {
            "cells": {
             "fill": {
              "color": "#EBF0F8"
             },
             "line": {
              "color": "white"
             }
            },
            "header": {
             "fill": {
              "color": "#C8D4E3"
             },
             "line": {
              "color": "white"
             }
            },
            "type": "table"
           }
          ]
         },
         "layout": {
          "annotationdefaults": {
           "arrowcolor": "#2a3f5f",
           "arrowhead": 0,
           "arrowwidth": 1
          },
          "autotypenumbers": "strict",
          "coloraxis": {
           "colorbar": {
            "outlinewidth": 0,
            "ticks": ""
           }
          },
          "colorscale": {
           "diverging": [
            [
             0,
             "#8e0152"
            ],
            [
             0.1,
             "#c51b7d"
            ],
            [
             0.2,
             "#de77ae"
            ],
            [
             0.3,
             "#f1b6da"
            ],
            [
             0.4,
             "#fde0ef"
            ],
            [
             0.5,
             "#f7f7f7"
            ],
            [
             0.6,
             "#e6f5d0"
            ],
            [
             0.7,
             "#b8e186"
            ],
            [
             0.8,
             "#7fbc41"
            ],
            [
             0.9,
             "#4d9221"
            ],
            [
             1,
             "#276419"
            ]
           ],
           "sequential": [
            [
             0,
             "#0d0887"
            ],
            [
             0.1111111111111111,
             "#46039f"
            ],
            [
             0.2222222222222222,
             "#7201a8"
            ],
            [
             0.3333333333333333,
             "#9c179e"
            ],
            [
             0.4444444444444444,
             "#bd3786"
            ],
            [
             0.5555555555555556,
             "#d8576b"
            ],
            [
             0.6666666666666666,
             "#ed7953"
            ],
            [
             0.7777777777777778,
             "#fb9f3a"
            ],
            [
             0.8888888888888888,
             "#fdca26"
            ],
            [
             1,
             "#f0f921"
            ]
           ],
           "sequentialminus": [
            [
             0,
             "#0d0887"
            ],
            [
             0.1111111111111111,
             "#46039f"
            ],
            [
             0.2222222222222222,
             "#7201a8"
            ],
            [
             0.3333333333333333,
             "#9c179e"
            ],
            [
             0.4444444444444444,
             "#bd3786"
            ],
            [
             0.5555555555555556,
             "#d8576b"
            ],
            [
             0.6666666666666666,
             "#ed7953"
            ],
            [
             0.7777777777777778,
             "#fb9f3a"
            ],
            [
             0.8888888888888888,
             "#fdca26"
            ],
            [
             1,
             "#f0f921"
            ]
           ]
          },
          "colorway": [
           "#636efa",
           "#EF553B",
           "#00cc96",
           "#ab63fa",
           "#FFA15A",
           "#19d3f3",
           "#FF6692",
           "#B6E880",
           "#FF97FF",
           "#FECB52"
          ],
          "font": {
           "color": "#2a3f5f"
          },
          "geo": {
           "bgcolor": "white",
           "lakecolor": "white",
           "landcolor": "#E5ECF6",
           "showlakes": true,
           "showland": true,
           "subunitcolor": "white"
          },
          "hoverlabel": {
           "align": "left"
          },
          "hovermode": "closest",
          "mapbox": {
           "style": "light"
          },
          "paper_bgcolor": "white",
          "plot_bgcolor": "#E5ECF6",
          "polar": {
           "angularaxis": {
            "gridcolor": "white",
            "linecolor": "white",
            "ticks": ""
           },
           "bgcolor": "#E5ECF6",
           "radialaxis": {
            "gridcolor": "white",
            "linecolor": "white",
            "ticks": ""
           }
          },
          "scene": {
           "xaxis": {
            "backgroundcolor": "#E5ECF6",
            "gridcolor": "white",
            "gridwidth": 2,
            "linecolor": "white",
            "showbackground": true,
            "ticks": "",
            "zerolinecolor": "white"
           },
           "yaxis": {
            "backgroundcolor": "#E5ECF6",
            "gridcolor": "white",
            "gridwidth": 2,
            "linecolor": "white",
            "showbackground": true,
            "ticks": "",
            "zerolinecolor": "white"
           },
           "zaxis": {
            "backgroundcolor": "#E5ECF6",
            "gridcolor": "white",
            "gridwidth": 2,
            "linecolor": "white",
            "showbackground": true,
            "ticks": "",
            "zerolinecolor": "white"
           }
          },
          "shapedefaults": {
           "line": {
            "color": "#2a3f5f"
           }
          },
          "ternary": {
           "aaxis": {
            "gridcolor": "white",
            "linecolor": "white",
            "ticks": ""
           },
           "baxis": {
            "gridcolor": "white",
            "linecolor": "white",
            "ticks": ""
           },
           "bgcolor": "#E5ECF6",
           "caxis": {
            "gridcolor": "white",
            "linecolor": "white",
            "ticks": ""
           }
          },
          "title": {
           "x": 0.05
          },
          "xaxis": {
           "automargin": true,
           "gridcolor": "white",
           "linecolor": "white",
           "ticks": "",
           "title": {
            "standoff": 15
           },
           "zerolinecolor": "white",
           "zerolinewidth": 2
          },
          "yaxis": {
           "automargin": true,
           "gridcolor": "white",
           "linecolor": "white",
           "ticks": "",
           "title": {
            "standoff": 15
           },
           "zerolinecolor": "white",
           "zerolinewidth": 2
          }
         }
        },
        "title": {
         "text": "Metrics by Segment Over Time",
         "x": 0.5,
         "xanchor": "center",
         "y": 0.95,
         "yanchor": "top"
        },
        "xaxis": {
         "title": {
          "text": "Year"
         }
        },
        "yaxis": {
         "tickformat": ".0f",
         "ticksuffix": "%",
         "title": {
          "text": "Metric"
         }
        }
       }
      },
      "text/html": [
       "<div>                            <div id=\"f5b8aaf7-446c-46ee-9a8f-53f6e891dd6c\" class=\"plotly-graph-div\" style=\"height:700px; width:100%;\"></div>            <script type=\"text/javascript\">                require([\"plotly\"], function(Plotly) {                    window.PLOTLYENV=window.PLOTLYENV || {};                                    if (document.getElementById(\"f5b8aaf7-446c-46ee-9a8f-53f6e891dd6c\")) {                    Plotly.newPlot(                        \"f5b8aaf7-446c-46ee-9a8f-53f6e891dd6c\",                        [{\"hovertemplate\":\"%{x}\\u003cbr\\u003elower secondary - both sexes: %{y:.1f}%\\u003cextra\\u003e\\u003c\\u002fextra\\u003e\",\"mode\":\"lines+markers\",\"name\":\"lower secondary - both sexes\",\"x\":[\"1987\",\"1993\",\"1994\",\"1995\",\"1996\",\"1999\",\"2000\",\"2001\",\"2002\",\"2003\",\"2004\",\"2005\",\"2006\",\"2007\",\"2008\",\"2009\",\"2010\",\"2011\",\"2012\",\"2013\",\"2014\"],\"y\":[83.8262405395508,86.5791015625,87.7786636352539,87.5590133666992,87.5040817260742,83.9985885620117,88.5956115722656,89.437629699707,88.7692489624023,89.4786911010742,87.2468185424805,88.1108932495117,89.4728164672852,88.482421875,87.2953567504883,87.3668899536133,86.6355133056641,87.6742630004883,88.2436981201172,88.3042068481445,88.2127685546875],\"type\":\"scatter\"},{\"hovertemplate\":\"%{x}\\u003cbr\\u003elower secondary - female: %{y:.1f}%\\u003cextra\\u003e\\u003c\\u002fextra\\u003e\",\"mode\":\"lines+markers\",\"name\":\"lower secondary - female\",\"x\":[\"1987\",\"1993\",\"1994\",\"1995\",\"1996\",\"2000\",\"2001\",\"2002\",\"2003\",\"2004\",\"2005\",\"2006\",\"2007\",\"2008\",\"2009\",\"2010\",\"2011\",\"2012\",\"2013\",\"2014\"],\"y\":[87.2118835449219,89.1127395629883,90.2433700561523,90.1501388549805,89.2713775634766,91.8361968994141,91.219970703125,89.98193359375,91.5220565795898,91.0429611206055,89.5782623291016,90.2805099487305,90.6106872558594,89.1400833129883,88.7921600341797,89.0051422119141,88.9281997680664,90.2633666992188,89.4806518554688,90.3819198608398],\"type\":\"scatter\"},{\"hovertemplate\":\"%{x}\\u003cbr\\u003elower secondary - male: %{y:.1f}%\\u003cextra\\u003e\\u003c\\u002fextra\\u003e\",\"mode\":\"lines+markers\",\"name\":\"lower secondary - male\",\"x\":[\"1987\",\"1993\",\"1994\",\"1995\",\"1996\",\"2000\",\"2001\",\"2002\",\"2003\",\"2004\",\"2005\",\"2006\",\"2007\",\"2008\",\"2009\",\"2010\",\"2011\",\"2012\",\"2013\",\"2014\"],\"y\":[80.6512908935547,84.199462890625,85.4578628540039,85.1083602905273,85.8243408203125,85.5253372192383,87.7491683959961,87.6228866577148,87.5511093139648,83.6691970825195,86.7271118164063,88.7097396850586,86.4683837890625,85.5494079589844,86.0182113647461,84.3929290771484,86.4869003295898,86.3271331787109,87.185546875,86.1458969116211],\"type\":\"scatter\"},{\"hovertemplate\":\"%{x}\\u003cbr\\u003eprimary - both sexes: %{y:.1f}%\\u003cextra\\u003e\\u003c\\u002fextra\\u003e\",\"mode\":\"lines+markers\",\"name\":\"primary - both sexes\",\"x\":[\"1999\",\"2000\",\"2001\",\"2002\",\"2003\",\"2004\",\"2005\",\"2006\",\"2007\",\"2008\",\"2009\",\"2010\",\"2011\",\"2012\",\"2013\",\"2014\",\"2015\"],\"y\":[97.5138931274414,97.6168670654297,97.3115234375,96.0032577514648,95.5352325439453,94.4362487792969,95.2743301391602,96.2528991699219,97.1722793579102,97.4857482910156,96.0313034057617,94.7958221435547,93.9446411132813,94.1093673706055,93.8258438110352,94.0345306396484,94.4560470581055],\"type\":\"scatter\"},{\"hovertemplate\":\"%{x}\\u003cbr\\u003eprimary - female: %{y:.1f}%\\u003cextra\\u003e\\u003c\\u002fextra\\u003e\",\"mode\":\"lines+markers\",\"name\":\"primary - female\",\"x\":[\"1999\",\"2000\",\"2001\",\"2002\",\"2003\",\"2004\",\"2005\",\"2006\",\"2007\",\"2008\",\"2009\",\"2010\",\"2011\",\"2012\",\"2013\",\"2014\",\"2015\"],\"y\":[97.7910537719727,97.7367782592773,98.0378265380859,96.7921829223633,96.1709671020508,95.1438522338867,95.9945983886719,97.2575531005859,97.8554534912109,97.9434280395508,97.0973587036133,95.13818359375,94.6745681762695,94.1039123535156,93.817741394043,94.4320602416992,94.7655410766602],\"type\":\"scatter\"},{\"hovertemplate\":\"%{x}\\u003cbr\\u003eprimary - male: %{y:.1f}%\\u003cextra\\u003e\\u003c\\u002fextra\\u003e\",\"mode\":\"lines+markers\",\"name\":\"primary - male\",\"x\":[\"1999\",\"2000\",\"2001\",\"2002\",\"2003\",\"2004\",\"2005\",\"2006\",\"2007\",\"2008\",\"2009\",\"2010\",\"2011\",\"2012\",\"2013\",\"2014\",\"2015\"],\"y\":[97.250617980957,97.5029067993164,96.6208572387695,95.2535705566406,94.9310836791992,93.763427734375,94.5888671875,95.2958374023438,96.5214080810547,97.049430847168,95.0139923095703,94.46875,93.2464904785156,94.1146087646484,93.833610534668,93.6527862548828,94.1588134765625],\"type\":\"scatter\"},{\"hovertemplate\":\"%{x}\\u003cbr\\u003eupper secondary - both sexes: %{y:.1f}%\\u003cextra\\u003e\\u003c\\u002fextra\\u003e\",\"mode\":\"lines+markers\",\"name\":\"upper secondary - both sexes\",\"x\":[\"2013\",\"2014\"],\"y\":[77.4836883544922,79.8881988525391],\"type\":\"scatter\"},{\"hovertemplate\":\"%{x}\\u003cbr\\u003eupper secondary - female: %{y:.1f}%\\u003cextra\\u003e\\u003c\\u002fextra\\u003e\",\"mode\":\"lines+markers\",\"name\":\"upper secondary - female\",\"x\":[\"2013\",\"2014\"],\"y\":[79.9035186767578,82.9001083374023],\"type\":\"scatter\"},{\"hovertemplate\":\"%{x}\\u003cbr\\u003eupper secondary - male: %{y:.1f}%\\u003cextra\\u003e\\u003c\\u002fextra\\u003e\",\"mode\":\"lines+markers\",\"name\":\"upper secondary - male\",\"x\":[\"2013\",\"2014\"],\"y\":[75.1999969482422,77.0411071777344],\"type\":\"scatter\"}],                        {\"template\":{\"data\":{\"histogram2dcontour\":[{\"type\":\"histogram2dcontour\",\"colorbar\":{\"outlinewidth\":0,\"ticks\":\"\"},\"colorscale\":[[0.0,\"#0d0887\"],[0.1111111111111111,\"#46039f\"],[0.2222222222222222,\"#7201a8\"],[0.3333333333333333,\"#9c179e\"],[0.4444444444444444,\"#bd3786\"],[0.5555555555555556,\"#d8576b\"],[0.6666666666666666,\"#ed7953\"],[0.7777777777777778,\"#fb9f3a\"],[0.8888888888888888,\"#fdca26\"],[1.0,\"#f0f921\"]]}],\"choropleth\":[{\"type\":\"choropleth\",\"colorbar\":{\"outlinewidth\":0,\"ticks\":\"\"}}],\"histogram2d\":[{\"type\":\"histogram2d\",\"colorbar\":{\"outlinewidth\":0,\"ticks\":\"\"},\"colorscale\":[[0.0,\"#0d0887\"],[0.1111111111111111,\"#46039f\"],[0.2222222222222222,\"#7201a8\"],[0.3333333333333333,\"#9c179e\"],[0.4444444444444444,\"#bd3786\"],[0.5555555555555556,\"#d8576b\"],[0.6666666666666666,\"#ed7953\"],[0.7777777777777778,\"#fb9f3a\"],[0.8888888888888888,\"#fdca26\"],[1.0,\"#f0f921\"]]}],\"heatmap\":[{\"type\":\"heatmap\",\"colorbar\":{\"outlinewidth\":0,\"ticks\":\"\"},\"colorscale\":[[0.0,\"#0d0887\"],[0.1111111111111111,\"#46039f\"],[0.2222222222222222,\"#7201a8\"],[0.3333333333333333,\"#9c179e\"],[0.4444444444444444,\"#bd3786\"],[0.5555555555555556,\"#d8576b\"],[0.6666666666666666,\"#ed7953\"],[0.7777777777777778,\"#fb9f3a\"],[0.8888888888888888,\"#fdca26\"],[1.0,\"#f0f921\"]]}],\"heatmapgl\":[{\"type\":\"heatmapgl\",\"colorbar\":{\"outlinewidth\":0,\"ticks\":\"\"},\"colorscale\":[[0.0,\"#0d0887\"],[0.1111111111111111,\"#46039f\"],[0.2222222222222222,\"#7201a8\"],[0.3333333333333333,\"#9c179e\"],[0.4444444444444444,\"#bd3786\"],[0.5555555555555556,\"#d8576b\"],[0.6666666666666666,\"#ed7953\"],[0.7777777777777778,\"#fb9f3a\"],[0.8888888888888888,\"#fdca26\"],[1.0,\"#f0f921\"]]}],\"contourcarpet\":[{\"type\":\"contourcarpet\",\"colorbar\":{\"outlinewidth\":0,\"ticks\":\"\"}}],\"contour\":[{\"type\":\"contour\",\"colorbar\":{\"outlinewidth\":0,\"ticks\":\"\"},\"colorscale\":[[0.0,\"#0d0887\"],[0.1111111111111111,\"#46039f\"],[0.2222222222222222,\"#7201a8\"],[0.3333333333333333,\"#9c179e\"],[0.4444444444444444,\"#bd3786\"],[0.5555555555555556,\"#d8576b\"],[0.6666666666666666,\"#ed7953\"],[0.7777777777777778,\"#fb9f3a\"],[0.8888888888888888,\"#fdca26\"],[1.0,\"#f0f921\"]]}],\"surface\":[{\"type\":\"surface\",\"colorbar\":{\"outlinewidth\":0,\"ticks\":\"\"},\"colorscale\":[[0.0,\"#0d0887\"],[0.1111111111111111,\"#46039f\"],[0.2222222222222222,\"#7201a8\"],[0.3333333333333333,\"#9c179e\"],[0.4444444444444444,\"#bd3786\"],[0.5555555555555556,\"#d8576b\"],[0.6666666666666666,\"#ed7953\"],[0.7777777777777778,\"#fb9f3a\"],[0.8888888888888888,\"#fdca26\"],[1.0,\"#f0f921\"]]}],\"mesh3d\":[{\"type\":\"mesh3d\",\"colorbar\":{\"outlinewidth\":0,\"ticks\":\"\"}}],\"scatter\":[{\"fillpattern\":{\"fillmode\":\"overlay\",\"size\":10,\"solidity\":0.2},\"type\":\"scatter\"}],\"parcoords\":[{\"type\":\"parcoords\",\"line\":{\"colorbar\":{\"outlinewidth\":0,\"ticks\":\"\"}}}],\"scatterpolargl\":[{\"type\":\"scatterpolargl\",\"marker\":{\"colorbar\":{\"outlinewidth\":0,\"ticks\":\"\"}}}],\"bar\":[{\"error_x\":{\"color\":\"#2a3f5f\"},\"error_y\":{\"color\":\"#2a3f5f\"},\"marker\":{\"line\":{\"color\":\"#E5ECF6\",\"width\":0.5},\"pattern\":{\"fillmode\":\"overlay\",\"size\":10,\"solidity\":0.2}},\"type\":\"bar\"}],\"scattergeo\":[{\"type\":\"scattergeo\",\"marker\":{\"colorbar\":{\"outlinewidth\":0,\"ticks\":\"\"}}}],\"scatterpolar\":[{\"type\":\"scatterpolar\",\"marker\":{\"colorbar\":{\"outlinewidth\":0,\"ticks\":\"\"}}}],\"histogram\":[{\"marker\":{\"pattern\":{\"fillmode\":\"overlay\",\"size\":10,\"solidity\":0.2}},\"type\":\"histogram\"}],\"scattergl\":[{\"type\":\"scattergl\",\"marker\":{\"colorbar\":{\"outlinewidth\":0,\"ticks\":\"\"}}}],\"scatter3d\":[{\"type\":\"scatter3d\",\"line\":{\"colorbar\":{\"outlinewidth\":0,\"ticks\":\"\"}},\"marker\":{\"colorbar\":{\"outlinewidth\":0,\"ticks\":\"\"}}}],\"scattermapbox\":[{\"type\":\"scattermapbox\",\"marker\":{\"colorbar\":{\"outlinewidth\":0,\"ticks\":\"\"}}}],\"scatterternary\":[{\"type\":\"scatterternary\",\"marker\":{\"colorbar\":{\"outlinewidth\":0,\"ticks\":\"\"}}}],\"scattercarpet\":[{\"type\":\"scattercarpet\",\"marker\":{\"colorbar\":{\"outlinewidth\":0,\"ticks\":\"\"}}}],\"carpet\":[{\"aaxis\":{\"endlinecolor\":\"#2a3f5f\",\"gridcolor\":\"white\",\"linecolor\":\"white\",\"minorgridcolor\":\"white\",\"startlinecolor\":\"#2a3f5f\"},\"baxis\":{\"endlinecolor\":\"#2a3f5f\",\"gridcolor\":\"white\",\"linecolor\":\"white\",\"minorgridcolor\":\"white\",\"startlinecolor\":\"#2a3f5f\"},\"type\":\"carpet\"}],\"table\":[{\"cells\":{\"fill\":{\"color\":\"#EBF0F8\"},\"line\":{\"color\":\"white\"}},\"header\":{\"fill\":{\"color\":\"#C8D4E3\"},\"line\":{\"color\":\"white\"}},\"type\":\"table\"}],\"barpolar\":[{\"marker\":{\"line\":{\"color\":\"#E5ECF6\",\"width\":0.5},\"pattern\":{\"fillmode\":\"overlay\",\"size\":10,\"solidity\":0.2}},\"type\":\"barpolar\"}],\"pie\":[{\"automargin\":true,\"type\":\"pie\"}]},\"layout\":{\"autotypenumbers\":\"strict\",\"colorway\":[\"#636efa\",\"#EF553B\",\"#00cc96\",\"#ab63fa\",\"#FFA15A\",\"#19d3f3\",\"#FF6692\",\"#B6E880\",\"#FF97FF\",\"#FECB52\"],\"font\":{\"color\":\"#2a3f5f\"},\"hovermode\":\"closest\",\"hoverlabel\":{\"align\":\"left\"},\"paper_bgcolor\":\"white\",\"plot_bgcolor\":\"#E5ECF6\",\"polar\":{\"bgcolor\":\"#E5ECF6\",\"angularaxis\":{\"gridcolor\":\"white\",\"linecolor\":\"white\",\"ticks\":\"\"},\"radialaxis\":{\"gridcolor\":\"white\",\"linecolor\":\"white\",\"ticks\":\"\"}},\"ternary\":{\"bgcolor\":\"#E5ECF6\",\"aaxis\":{\"gridcolor\":\"white\",\"linecolor\":\"white\",\"ticks\":\"\"},\"baxis\":{\"gridcolor\":\"white\",\"linecolor\":\"white\",\"ticks\":\"\"},\"caxis\":{\"gridcolor\":\"white\",\"linecolor\":\"white\",\"ticks\":\"\"}},\"coloraxis\":{\"colorbar\":{\"outlinewidth\":0,\"ticks\":\"\"}},\"colorscale\":{\"sequential\":[[0.0,\"#0d0887\"],[0.1111111111111111,\"#46039f\"],[0.2222222222222222,\"#7201a8\"],[0.3333333333333333,\"#9c179e\"],[0.4444444444444444,\"#bd3786\"],[0.5555555555555556,\"#d8576b\"],[0.6666666666666666,\"#ed7953\"],[0.7777777777777778,\"#fb9f3a\"],[0.8888888888888888,\"#fdca26\"],[1.0,\"#f0f921\"]],\"sequentialminus\":[[0.0,\"#0d0887\"],[0.1111111111111111,\"#46039f\"],[0.2222222222222222,\"#7201a8\"],[0.3333333333333333,\"#9c179e\"],[0.4444444444444444,\"#bd3786\"],[0.5555555555555556,\"#d8576b\"],[0.6666666666666666,\"#ed7953\"],[0.7777777777777778,\"#fb9f3a\"],[0.8888888888888888,\"#fdca26\"],[1.0,\"#f0f921\"]],\"diverging\":[[0,\"#8e0152\"],[0.1,\"#c51b7d\"],[0.2,\"#de77ae\"],[0.3,\"#f1b6da\"],[0.4,\"#fde0ef\"],[0.5,\"#f7f7f7\"],[0.6,\"#e6f5d0\"],[0.7,\"#b8e186\"],[0.8,\"#7fbc41\"],[0.9,\"#4d9221\"],[1,\"#276419\"]]},\"xaxis\":{\"gridcolor\":\"white\",\"linecolor\":\"white\",\"ticks\":\"\",\"title\":{\"standoff\":15},\"zerolinecolor\":\"white\",\"automargin\":true,\"zerolinewidth\":2},\"yaxis\":{\"gridcolor\":\"white\",\"linecolor\":\"white\",\"ticks\":\"\",\"title\":{\"standoff\":15},\"zerolinecolor\":\"white\",\"automargin\":true,\"zerolinewidth\":2},\"scene\":{\"xaxis\":{\"backgroundcolor\":\"#E5ECF6\",\"gridcolor\":\"white\",\"linecolor\":\"white\",\"showbackground\":true,\"ticks\":\"\",\"zerolinecolor\":\"white\",\"gridwidth\":2},\"yaxis\":{\"backgroundcolor\":\"#E5ECF6\",\"gridcolor\":\"white\",\"linecolor\":\"white\",\"showbackground\":true,\"ticks\":\"\",\"zerolinecolor\":\"white\",\"gridwidth\":2},\"zaxis\":{\"backgroundcolor\":\"#E5ECF6\",\"gridcolor\":\"white\",\"linecolor\":\"white\",\"showbackground\":true,\"ticks\":\"\",\"zerolinecolor\":\"white\",\"gridwidth\":2}},\"shapedefaults\":{\"line\":{\"color\":\"#2a3f5f\"}},\"annotationdefaults\":{\"arrowcolor\":\"#2a3f5f\",\"arrowhead\":0,\"arrowwidth\":1},\"geo\":{\"bgcolor\":\"white\",\"landcolor\":\"#E5ECF6\",\"subunitcolor\":\"white\",\"showland\":true,\"showlakes\":true,\"lakecolor\":\"white\"},\"title\":{\"x\":0.05},\"mapbox\":{\"style\":\"light\"}}},\"yaxis\":{\"title\":{\"text\":\"Metric\"},\"tickformat\":\".0f\",\"ticksuffix\":\"%\"},\"margin\":{\"t\":200},\"legend\":{\"font\":{\"size\":10},\"yanchor\":\"bottom\",\"y\":1.02,\"xanchor\":\"left\",\"x\":0.01,\"orientation\":\"h\"},\"title\":{\"text\":\"Metrics by Segment Over Time\",\"y\":0.95,\"x\":0.5,\"xanchor\":\"center\",\"yanchor\":\"top\"},\"xaxis\":{\"title\":{\"text\":\"Year\"}},\"height\":700},                        {\"responsive\": true}                    ).then(function(){\n",
       "                            \n",
       "var gd = document.getElementById('f5b8aaf7-446c-46ee-9a8f-53f6e891dd6c');\n",
       "var x = new MutationObserver(function (mutations, observer) {{\n",
       "        var display = window.getComputedStyle(gd).display;\n",
       "        if (!display || display === 'none') {{\n",
       "            console.log([gd, 'removed!']);\n",
       "            Plotly.purge(gd);\n",
       "            observer.disconnect();\n",
       "        }}\n",
       "}});\n",
       "\n",
       "// Listen for the removal of the full notebook cells\n",
       "var notebookContainer = gd.closest('#notebook-container');\n",
       "if (notebookContainer) {{\n",
       "    x.observe(notebookContainer, {childList: true});\n",
       "}}\n",
       "\n",
       "// Listen for the clearing of the current output cell\n",
       "var outputEl = gd.closest('.output');\n",
       "if (outputEl) {{\n",
       "    x.observe(outputEl, {childList: true});\n",
       "}}\n",
       "\n",
       "                        })                };                });            </script>        </div>"
      ]
     },
     "metadata": {},
     "output_type": "display_data"
    }
   ],
   "source": [
    "# Create figure\n",
    "fig = go.Figure()\n",
    "\n",
    "# Add traces for each segment\n",
    "for segment in plot_df['Segment'].unique():\n",
    "    segment_data = plot_df[plot_df['Segment'] == segment]\n",
    "    \n",
    "    fig.add_trace(\n",
    "        go.Scatter(\n",
    "            x=segment_data['Year'],\n",
    "            y=segment_data['Metric'],\n",
    "            name=segment,\n",
    "            mode='lines+markers',  # 'lines', 'markers', or 'lines+markers'\n",
    "            hovertemplate='%{x}<br>' +\n",
    "                         f'{segment}: %{{y:.1f}}%' +\n",
    "                         '<extra></extra>'\n",
    "        )\n",
    "    )\n",
    "\n",
    "# Update layout\n",
    "fig.update_layout(\n",
    "    title='Metrics by Segment Over Time',\n",
    "    xaxis_title='Year',\n",
    "    yaxis_title='Metric',\n",
    "    yaxis=dict(\n",
    "        tickformat='.0f',  # one decimal place\n",
    "        ticksuffix='%'     # add % to each tick\n",
    "    ),\n",
    "    height=700,\n",
    "    margin=dict(t=200),  # increase top margin for legend\n",
    "    legend=dict(\n",
    "        yanchor=\"bottom\",\n",
    "        y=1.02,        # moves legend above the plot area\n",
    "        xanchor=\"left\",\n",
    "        x=0.01,\n",
    "        orientation=\"h\",\n",
    "        font=dict(\n",
    "            size=10     # makes legend text smaller (default is usually 12)\n",
    "        )\n",
    "    )\n",
    ")\n",
    "\n",
    "# You might also want to adjust the title position\n",
    "fig.update_layout(\n",
    "    title=dict(\n",
    "        y=0.95,        # moves title higher to make room for legend\n",
    "        x=0.5,\n",
    "        xanchor='center',\n",
    "        yanchor='top'\n",
    "    )\n",
    ")\n",
    "\n",
    "# Show the plot\n",
    "fig.show()"
   ]
  },
  {
   "cell_type": "code",
   "execution_count": null,
   "id": "135aead1",
   "metadata": {},
   "outputs": [],
   "source": []
  },
  {
   "cell_type": "code",
   "execution_count": 21,
   "id": "fdfee263",
   "metadata": {},
   "outputs": [],
   "source": [
    "plot_df[['Year','Segment','Metric']]\\\n",
    "    .to_csv('/data/processed/edu.csv',index=False)"
   ]
  },
  {
   "cell_type": "code",
   "execution_count": null,
   "id": "a1a56790",
   "metadata": {},
   "outputs": [],
   "source": []
  },
  {
   "cell_type": "code",
   "execution_count": null,
   "id": "b54e085b",
   "metadata": {},
   "outputs": [],
   "source": []
  },
  {
   "cell_type": "code",
   "execution_count": null,
   "id": "71e6bb73-2d8d-4e98-ba4b-6868b7fb2e5d",
   "metadata": {},
   "outputs": [],
   "source": []
  },
  {
   "cell_type": "code",
   "execution_count": null,
   "id": "60be528e",
   "metadata": {},
   "outputs": [],
   "source": []
  }
 ],
 "metadata": {
  "kernelspec": {
   "display_name": "Python 3 (ipykernel)",
   "language": "python",
   "name": "python3"
  },
  "language_info": {
   "codemirror_mode": {
    "name": "ipython",
    "version": 3
   },
   "file_extension": ".py",
   "mimetype": "text/x-python",
   "name": "python",
   "nbconvert_exporter": "python",
   "pygments_lexer": "ipython3",
   "version": "3.10.16"
  }
 },
 "nbformat": 4,
 "nbformat_minor": 5
}
